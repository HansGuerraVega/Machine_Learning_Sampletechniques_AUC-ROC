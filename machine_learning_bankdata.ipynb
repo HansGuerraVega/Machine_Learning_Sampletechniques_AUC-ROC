{
 "cells": [
  {
   "cell_type": "markdown",
   "metadata": {},
   "source": [
    "# Classification of a Beta Bank customer data set to predict whether customers stay with the service or leave"
   ]
  },
  {
   "cell_type": "markdown",
   "metadata": {},
   "source": [
    "# Content <a id='back'></a>\n",
    "\n",
    "* [Introduction](#intro)\n",
    "* [step 1. Data review.](#data_review)\n",
    "    * [First impressions](#data_review_conclusions)\n",
    "* [Step 2. Data preprocessing](#data_preprocessing)\n",
    "    * [2.1 Duplicate values and fill missing values](#duplicate_values)\n",
    "* [Step 3. Data Analysis](#data_analysis)\n",
    "    * [3.1 Segmentation of the source data into a training set, a validation set and a test set.](#segmentation)\n",
    "    * [3.2 Logistic Regression whith imbalance data](#logistic)\n",
    "    * [3.3 Data balancing using upsampled and downsampled](#balance)\n",
    "    * [3.4 DecisionTreeClassifier with corrected data](#decisiontree)\n",
    "    * [3.5 LogisticRegression with corrected data](#logistic_corrected)\n",
    "    * [3.6 RandomForestClassifier with corrected data](#randomf)\n",
    "    * [3.7 Test of the best model](#test_bestmodel)\n",
    "    * [3.8 Extra analysis: Analyzed only with training and validation data](#extra_analysis)\n",
    "* [Step 4. Step 4. Final Test](#final_test)\n",
    "* [Conclusion](#end)"
   ]
  },
  {
   "cell_type": "markdown",
   "metadata": {},
   "source": [
    "# Introduction <a id='intro'></a>\n",
    "\n",
    "Beta Bank customers are leaving, little by little, every month. Bankers discovered that it is cheaper to save existing customers than to attract new ones.\n",
    "\n",
    "We need to predict whether a customer will leave the bank soon. You have the data on the past behavior of clients and the termination of contracts with the bank."
   ]
  },
  {
   "cell_type": "markdown",
   "metadata": {},
   "source": [
    "## Step 1. Data review. <a id='data_review'></a>"
   ]
  },
  {
   "cell_type": "code",
   "execution_count": 6,
   "metadata": {},
   "outputs": [],
   "source": [
    "# All libraries are loaded\n",
    "\n",
    "import pandas as pd\n",
    "from matplotlib import pyplot as plt\n",
    "from sklearn.preprocessing import StandardScaler\n",
    "from sklearn.tree import DecisionTreeClassifier\n",
    "from sklearn.ensemble import RandomForestClassifier\n",
    "from sklearn.linear_model import LogisticRegression\n",
    "from sklearn.metrics import accuracy_score, f1_score, roc_auc_score\n",
    "from sklearn.model_selection import train_test_split\n",
    "from sklearn.metrics import mean_squared_error\n",
    "from sklearn.utils import shuffle\n",
    "from sklearn.metrics import roc_curve"
   ]
  },
  {
   "cell_type": "markdown",
   "metadata": {},
   "source": [
    "### First impressions <a id='data_review_conclusions'></a>"
   ]
  },
  {
   "cell_type": "code",
   "execution_count": 9,
   "metadata": {},
   "outputs": [],
   "source": [
    "# Import data\n",
    "\n",
    "df = pd.read_csv('Churn.csv')"
   ]
  },
  {
   "cell_type": "code",
   "execution_count": 11,
   "metadata": {},
   "outputs": [
    {
     "data": {
      "text/html": [
       "<div>\n",
       "<style scoped>\n",
       "    .dataframe tbody tr th:only-of-type {\n",
       "        vertical-align: middle;\n",
       "    }\n",
       "\n",
       "    .dataframe tbody tr th {\n",
       "        vertical-align: top;\n",
       "    }\n",
       "\n",
       "    .dataframe thead th {\n",
       "        text-align: right;\n",
       "    }\n",
       "</style>\n",
       "<table border=\"1\" class=\"dataframe\">\n",
       "  <thead>\n",
       "    <tr style=\"text-align: right;\">\n",
       "      <th></th>\n",
       "      <th>RowNumber</th>\n",
       "      <th>CustomerId</th>\n",
       "      <th>Surname</th>\n",
       "      <th>CreditScore</th>\n",
       "      <th>Geography</th>\n",
       "      <th>Gender</th>\n",
       "      <th>Age</th>\n",
       "      <th>Tenure</th>\n",
       "      <th>Balance</th>\n",
       "      <th>NumOfProducts</th>\n",
       "      <th>HasCrCard</th>\n",
       "      <th>IsActiveMember</th>\n",
       "      <th>EstimatedSalary</th>\n",
       "      <th>Exited</th>\n",
       "    </tr>\n",
       "  </thead>\n",
       "  <tbody>\n",
       "    <tr>\n",
       "      <th>0</th>\n",
       "      <td>1</td>\n",
       "      <td>15634602</td>\n",
       "      <td>Hargrave</td>\n",
       "      <td>619</td>\n",
       "      <td>France</td>\n",
       "      <td>Female</td>\n",
       "      <td>42</td>\n",
       "      <td>2.0</td>\n",
       "      <td>0.00</td>\n",
       "      <td>1</td>\n",
       "      <td>1</td>\n",
       "      <td>1</td>\n",
       "      <td>101348.88</td>\n",
       "      <td>1</td>\n",
       "    </tr>\n",
       "    <tr>\n",
       "      <th>1</th>\n",
       "      <td>2</td>\n",
       "      <td>15647311</td>\n",
       "      <td>Hill</td>\n",
       "      <td>608</td>\n",
       "      <td>Spain</td>\n",
       "      <td>Female</td>\n",
       "      <td>41</td>\n",
       "      <td>1.0</td>\n",
       "      <td>83807.86</td>\n",
       "      <td>1</td>\n",
       "      <td>0</td>\n",
       "      <td>1</td>\n",
       "      <td>112542.58</td>\n",
       "      <td>0</td>\n",
       "    </tr>\n",
       "    <tr>\n",
       "      <th>2</th>\n",
       "      <td>3</td>\n",
       "      <td>15619304</td>\n",
       "      <td>Onio</td>\n",
       "      <td>502</td>\n",
       "      <td>France</td>\n",
       "      <td>Female</td>\n",
       "      <td>42</td>\n",
       "      <td>8.0</td>\n",
       "      <td>159660.80</td>\n",
       "      <td>3</td>\n",
       "      <td>1</td>\n",
       "      <td>0</td>\n",
       "      <td>113931.57</td>\n",
       "      <td>1</td>\n",
       "    </tr>\n",
       "    <tr>\n",
       "      <th>3</th>\n",
       "      <td>4</td>\n",
       "      <td>15701354</td>\n",
       "      <td>Boni</td>\n",
       "      <td>699</td>\n",
       "      <td>France</td>\n",
       "      <td>Female</td>\n",
       "      <td>39</td>\n",
       "      <td>1.0</td>\n",
       "      <td>0.00</td>\n",
       "      <td>2</td>\n",
       "      <td>0</td>\n",
       "      <td>0</td>\n",
       "      <td>93826.63</td>\n",
       "      <td>0</td>\n",
       "    </tr>\n",
       "    <tr>\n",
       "      <th>4</th>\n",
       "      <td>5</td>\n",
       "      <td>15737888</td>\n",
       "      <td>Mitchell</td>\n",
       "      <td>850</td>\n",
       "      <td>Spain</td>\n",
       "      <td>Female</td>\n",
       "      <td>43</td>\n",
       "      <td>2.0</td>\n",
       "      <td>125510.82</td>\n",
       "      <td>1</td>\n",
       "      <td>1</td>\n",
       "      <td>1</td>\n",
       "      <td>79084.10</td>\n",
       "      <td>0</td>\n",
       "    </tr>\n",
       "  </tbody>\n",
       "</table>\n",
       "</div>"
      ],
      "text/plain": [
       "   RowNumber  CustomerId   Surname  CreditScore Geography  Gender  Age  \\\n",
       "0          1    15634602  Hargrave          619    France  Female   42   \n",
       "1          2    15647311      Hill          608     Spain  Female   41   \n",
       "2          3    15619304      Onio          502    France  Female   42   \n",
       "3          4    15701354      Boni          699    France  Female   39   \n",
       "4          5    15737888  Mitchell          850     Spain  Female   43   \n",
       "\n",
       "   Tenure    Balance  NumOfProducts  HasCrCard  IsActiveMember  \\\n",
       "0     2.0       0.00              1          1               1   \n",
       "1     1.0   83807.86              1          0               1   \n",
       "2     8.0  159660.80              3          1               0   \n",
       "3     1.0       0.00              2          0               0   \n",
       "4     2.0  125510.82              1          1               1   \n",
       "\n",
       "   EstimatedSalary  Exited  \n",
       "0        101348.88       1  \n",
       "1        112542.58       0  \n",
       "2        113931.57       1  \n",
       "3         93826.63       0  \n",
       "4         79084.10       0  "
      ]
     },
     "metadata": {},
     "output_type": "display_data"
    },
    {
     "name": "stdout",
     "output_type": "stream",
     "text": [
      "<class 'pandas.core.frame.DataFrame'>\n",
      "RangeIndex: 10000 entries, 0 to 9999\n",
      "Data columns (total 14 columns):\n",
      " #   Column           Non-Null Count  Dtype  \n",
      "---  ------           --------------  -----  \n",
      " 0   RowNumber        10000 non-null  int64  \n",
      " 1   CustomerId       10000 non-null  int64  \n",
      " 2   Surname          10000 non-null  object \n",
      " 3   CreditScore      10000 non-null  int64  \n",
      " 4   Geography        10000 non-null  object \n",
      " 5   Gender           10000 non-null  object \n",
      " 6   Age              10000 non-null  int64  \n",
      " 7   Tenure           9091 non-null   float64\n",
      " 8   Balance          10000 non-null  float64\n",
      " 9   NumOfProducts    10000 non-null  int64  \n",
      " 10  HasCrCard        10000 non-null  int64  \n",
      " 11  IsActiveMember   10000 non-null  int64  \n",
      " 12  EstimatedSalary  10000 non-null  float64\n",
      " 13  Exited           10000 non-null  int64  \n",
      "dtypes: float64(3), int64(8), object(3)\n",
      "memory usage: 1.1+ MB\n",
      "RowNumber            0\n",
      "CustomerId           0\n",
      "Surname              0\n",
      "CreditScore          0\n",
      "Geography            0\n",
      "Gender               0\n",
      "Age                  0\n",
      "Tenure             909\n",
      "Balance              0\n",
      "NumOfProducts        0\n",
      "HasCrCard            0\n",
      "IsActiveMember       0\n",
      "EstimatedSalary      0\n",
      "Exited               0\n",
      "dtype: int64\n"
     ]
    },
    {
     "data": {
      "text/html": [
       "<div>\n",
       "<style scoped>\n",
       "    .dataframe tbody tr th:only-of-type {\n",
       "        vertical-align: middle;\n",
       "    }\n",
       "\n",
       "    .dataframe tbody tr th {\n",
       "        vertical-align: top;\n",
       "    }\n",
       "\n",
       "    .dataframe thead th {\n",
       "        text-align: right;\n",
       "    }\n",
       "</style>\n",
       "<table border=\"1\" class=\"dataframe\">\n",
       "  <thead>\n",
       "    <tr style=\"text-align: right;\">\n",
       "      <th></th>\n",
       "      <th>RowNumber</th>\n",
       "      <th>CustomerId</th>\n",
       "      <th>CreditScore</th>\n",
       "      <th>Age</th>\n",
       "      <th>Tenure</th>\n",
       "      <th>Balance</th>\n",
       "      <th>NumOfProducts</th>\n",
       "      <th>HasCrCard</th>\n",
       "      <th>IsActiveMember</th>\n",
       "      <th>EstimatedSalary</th>\n",
       "      <th>Exited</th>\n",
       "    </tr>\n",
       "  </thead>\n",
       "  <tbody>\n",
       "    <tr>\n",
       "      <th>count</th>\n",
       "      <td>10000.00000</td>\n",
       "      <td>1.000000e+04</td>\n",
       "      <td>10000.000000</td>\n",
       "      <td>10000.000000</td>\n",
       "      <td>9091.000000</td>\n",
       "      <td>10000.000000</td>\n",
       "      <td>10000.000000</td>\n",
       "      <td>10000.00000</td>\n",
       "      <td>10000.000000</td>\n",
       "      <td>10000.000000</td>\n",
       "      <td>10000.000000</td>\n",
       "    </tr>\n",
       "    <tr>\n",
       "      <th>mean</th>\n",
       "      <td>5000.50000</td>\n",
       "      <td>1.569094e+07</td>\n",
       "      <td>650.528800</td>\n",
       "      <td>38.921800</td>\n",
       "      <td>4.997690</td>\n",
       "      <td>76485.889288</td>\n",
       "      <td>1.530200</td>\n",
       "      <td>0.70550</td>\n",
       "      <td>0.515100</td>\n",
       "      <td>100090.239881</td>\n",
       "      <td>0.203700</td>\n",
       "    </tr>\n",
       "    <tr>\n",
       "      <th>std</th>\n",
       "      <td>2886.89568</td>\n",
       "      <td>7.193619e+04</td>\n",
       "      <td>96.653299</td>\n",
       "      <td>10.487806</td>\n",
       "      <td>2.894723</td>\n",
       "      <td>62397.405202</td>\n",
       "      <td>0.581654</td>\n",
       "      <td>0.45584</td>\n",
       "      <td>0.499797</td>\n",
       "      <td>57510.492818</td>\n",
       "      <td>0.402769</td>\n",
       "    </tr>\n",
       "    <tr>\n",
       "      <th>min</th>\n",
       "      <td>1.00000</td>\n",
       "      <td>1.556570e+07</td>\n",
       "      <td>350.000000</td>\n",
       "      <td>18.000000</td>\n",
       "      <td>0.000000</td>\n",
       "      <td>0.000000</td>\n",
       "      <td>1.000000</td>\n",
       "      <td>0.00000</td>\n",
       "      <td>0.000000</td>\n",
       "      <td>11.580000</td>\n",
       "      <td>0.000000</td>\n",
       "    </tr>\n",
       "    <tr>\n",
       "      <th>25%</th>\n",
       "      <td>2500.75000</td>\n",
       "      <td>1.562853e+07</td>\n",
       "      <td>584.000000</td>\n",
       "      <td>32.000000</td>\n",
       "      <td>2.000000</td>\n",
       "      <td>0.000000</td>\n",
       "      <td>1.000000</td>\n",
       "      <td>0.00000</td>\n",
       "      <td>0.000000</td>\n",
       "      <td>51002.110000</td>\n",
       "      <td>0.000000</td>\n",
       "    </tr>\n",
       "    <tr>\n",
       "      <th>50%</th>\n",
       "      <td>5000.50000</td>\n",
       "      <td>1.569074e+07</td>\n",
       "      <td>652.000000</td>\n",
       "      <td>37.000000</td>\n",
       "      <td>5.000000</td>\n",
       "      <td>97198.540000</td>\n",
       "      <td>1.000000</td>\n",
       "      <td>1.00000</td>\n",
       "      <td>1.000000</td>\n",
       "      <td>100193.915000</td>\n",
       "      <td>0.000000</td>\n",
       "    </tr>\n",
       "    <tr>\n",
       "      <th>75%</th>\n",
       "      <td>7500.25000</td>\n",
       "      <td>1.575323e+07</td>\n",
       "      <td>718.000000</td>\n",
       "      <td>44.000000</td>\n",
       "      <td>7.000000</td>\n",
       "      <td>127644.240000</td>\n",
       "      <td>2.000000</td>\n",
       "      <td>1.00000</td>\n",
       "      <td>1.000000</td>\n",
       "      <td>149388.247500</td>\n",
       "      <td>0.000000</td>\n",
       "    </tr>\n",
       "    <tr>\n",
       "      <th>max</th>\n",
       "      <td>10000.00000</td>\n",
       "      <td>1.581569e+07</td>\n",
       "      <td>850.000000</td>\n",
       "      <td>92.000000</td>\n",
       "      <td>10.000000</td>\n",
       "      <td>250898.090000</td>\n",
       "      <td>4.000000</td>\n",
       "      <td>1.00000</td>\n",
       "      <td>1.000000</td>\n",
       "      <td>199992.480000</td>\n",
       "      <td>1.000000</td>\n",
       "    </tr>\n",
       "  </tbody>\n",
       "</table>\n",
       "</div>"
      ],
      "text/plain": [
       "         RowNumber    CustomerId   CreditScore           Age       Tenure  \\\n",
       "count  10000.00000  1.000000e+04  10000.000000  10000.000000  9091.000000   \n",
       "mean    5000.50000  1.569094e+07    650.528800     38.921800     4.997690   \n",
       "std     2886.89568  7.193619e+04     96.653299     10.487806     2.894723   \n",
       "min        1.00000  1.556570e+07    350.000000     18.000000     0.000000   \n",
       "25%     2500.75000  1.562853e+07    584.000000     32.000000     2.000000   \n",
       "50%     5000.50000  1.569074e+07    652.000000     37.000000     5.000000   \n",
       "75%     7500.25000  1.575323e+07    718.000000     44.000000     7.000000   \n",
       "max    10000.00000  1.581569e+07    850.000000     92.000000    10.000000   \n",
       "\n",
       "             Balance  NumOfProducts    HasCrCard  IsActiveMember  \\\n",
       "count   10000.000000   10000.000000  10000.00000    10000.000000   \n",
       "mean    76485.889288       1.530200      0.70550        0.515100   \n",
       "std     62397.405202       0.581654      0.45584        0.499797   \n",
       "min         0.000000       1.000000      0.00000        0.000000   \n",
       "25%         0.000000       1.000000      0.00000        0.000000   \n",
       "50%     97198.540000       1.000000      1.00000        1.000000   \n",
       "75%    127644.240000       2.000000      1.00000        1.000000   \n",
       "max    250898.090000       4.000000      1.00000        1.000000   \n",
       "\n",
       "       EstimatedSalary        Exited  \n",
       "count     10000.000000  10000.000000  \n",
       "mean     100090.239881      0.203700  \n",
       "std       57510.492818      0.402769  \n",
       "min          11.580000      0.000000  \n",
       "25%       51002.110000      0.000000  \n",
       "50%      100193.915000      0.000000  \n",
       "75%      149388.247500      0.000000  \n",
       "max      199992.480000      1.000000  "
      ]
     },
     "execution_count": 11,
     "metadata": {},
     "output_type": "execute_result"
    }
   ],
   "source": [
    "# The data frame information and a sample of the data are printed\n",
    "\n",
    "display(df.head())\n",
    "df.info()\n",
    "print(df.isnull().sum())\n",
    "df.describe()"
   ]
  },
  {
   "cell_type": "markdown",
   "metadata": {},
   "source": [
    "**Observations**\n",
    "1. There is only missing data in the variable 'Tenure' (909), due to the characteristics of the data they will be filled with the mean of 'Tenure'.\n",
    "2. The data type is correct for the data set.\n",
    "3. It seems everything is correct and it is posible to continue with the other steps.\n",
    "4. The values returned by the describe() method are consistent"
   ]
  },
  {
   "cell_type": "markdown",
   "metadata": {},
   "source": [
    "## Step 2. Data preprocessing <a id='data_preprocessing'></a>"
   ]
  },
  {
   "cell_type": "markdown",
   "metadata": {},
   "source": [
    "### Duplicate values and fill missing values <a id='duplicate_values'></a>"
   ]
  },
  {
   "cell_type": "code",
   "execution_count": 16,
   "metadata": {},
   "outputs": [
    {
     "name": "stdout",
     "output_type": "stream",
     "text": [
      "RowNumber          0\n",
      "CustomerId         0\n",
      "Surname            0\n",
      "CreditScore        0\n",
      "Geography          0\n",
      "Gender             0\n",
      "Age                0\n",
      "Tenure             0\n",
      "Balance            0\n",
      "NumOfProducts      0\n",
      "HasCrCard          0\n",
      "IsActiveMember     0\n",
      "EstimatedSalary    0\n",
      "Exited             0\n",
      "dtype: int64\n"
     ]
    }
   ],
   "source": [
    "# Verify missing values\n",
    "\n",
    "df['Tenure'] = df['Tenure'].fillna(df['Tenure'].mean())\n",
    "\n",
    "print(df.isnull().sum())"
   ]
  },
  {
   "cell_type": "code",
   "execution_count": 18,
   "metadata": {},
   "outputs": [
    {
     "name": "stdout",
     "output_type": "stream",
     "text": [
      "Duplicated values in df:\n",
      "Empty DataFrame\n",
      "Columns: [RowNumber, CustomerId, Surname, CreditScore, Geography, Gender, Age, Tenure, Balance, NumOfProducts, HasCrCard, IsActiveMember, EstimatedSalary, Exited]\n",
      "Index: []\n"
     ]
    }
   ],
   "source": [
    "# Verify duplicated data\n",
    "\n",
    "print('Duplicated values in df:')\n",
    "print(df[df.duplicated()])"
   ]
  },
  {
   "cell_type": "markdown",
   "metadata": {},
   "source": [
    "**Observations**\n",
    "\n",
    "1. There are no duplicate values in \"df\", the consistency of the data was ensured so we can continue with the next steps.\n",
    "2. The missing values were filled\n",
    "3. Although it has not been requested in this project, it would be good to standardize the data to have less differences and noise, this could surely improve the accuracy in the classification."
   ]
  },
  {
   "cell_type": "markdown",
   "metadata": {},
   "source": [
    "## Step 3. Data Analysis <a id='data_analysis'></a>"
   ]
  },
  {
   "cell_type": "markdown",
   "metadata": {},
   "source": [
    "### Segmentation of the source data into a training set, a validation set and a test set. <a id='segmentation'></a>"
   ]
  },
  {
   "cell_type": "code",
   "execution_count": 23,
   "metadata": {},
   "outputs": [],
   "source": [
    "# Tranform object variables to categorical variables avoinding the dummy problem\n",
    "\n",
    "df = pd.get_dummies(df, columns=['Geography', 'Gender'], drop_first=True)\n",
    "numeric = ['CustomerId','CreditScore', 'Age', 'Tenure', 'Balance', 'EstimatedSalary']"
   ]
  },
  {
   "cell_type": "code",
   "execution_count": 25,
   "metadata": {},
   "outputs": [],
   "source": [
    "# Split between features and objective\n",
    "\n",
    "features = df.drop(['Exited', 'RowNumber', 'Surname', 'CustomerId'], axis=1)\n",
    "target = df['Exited']"
   ]
  },
  {
   "cell_type": "code",
   "execution_count": 27,
   "metadata": {},
   "outputs": [],
   "source": [
    "# Split the dataset in train, validation and test set (70% train, 15% validation, 15% test)\n",
    "X_train, X_temp, y_train, y_temp = train_test_split(features, target, test_size=0.3, random_state=12345)\n",
    "X_valid, X_test, y_valid, y_test = train_test_split(X_temp, y_temp, test_size=0.5, random_state=12345)"
   ]
  },
  {
   "cell_type": "code",
   "execution_count": 29,
   "metadata": {},
   "outputs": [],
   "source": [
    "# Data scaling\n",
    "\n",
    "sc = StandardScaler()\n",
    "X_train = sc.fit_transform(X_train)\n",
    "X_valid = sc.fit_transform(X_valid)\n",
    "X_test =sc.fit_transform(X_test)"
   ]
  },
  {
   "cell_type": "markdown",
   "metadata": {},
   "source": [
    "### Logistic Regression whith imbalance data. <a id='logistic'></a>\n"
   ]
  },
  {
   "cell_type": "code",
   "execution_count": 32,
   "metadata": {},
   "outputs": [
    {
     "name": "stdout",
     "output_type": "stream",
     "text": [
      "F1 Score (sin corrección): 0.2995169082125604\n",
      "AUC-ROC (sin corrección): 0.7757985643725204\n"
     ]
    }
   ],
   "source": [
    "# Initial training with logistic regression without imbalance correction\n",
    "\n",
    "model = LogisticRegression(random_state=12345, solver='liblinear')\n",
    "model.fit(X_train, y_train)\n",
    "\n",
    "# Evaluate on validation set\n",
    "\n",
    "y_pred = model.predict(X_valid)\n",
    "f1 = f1_score(y_valid, y_pred)\n",
    "roc_auc = roc_auc_score(y_valid, model.predict_proba(X_valid)[:, 1])\n",
    "\n",
    "print(\"F1 Score (sin corrección):\", f1)\n",
    "print(\"AUC-ROC (sin corrección):\", roc_auc)"
   ]
  },
  {
   "cell_type": "markdown",
   "metadata": {},
   "source": [
    "**Observations**\n",
    "\n",
    "1. The model was trained with logistic regression due to its benefits, it is shown that it is far from reaching the objective of 59% in the F1 score, it is necessary to apply methods to balance the classes.\n",
    "2. Downsampled and upsampled methods will be used.\n",
    "3. If the data were not standardized the scores would be a little lower.\n",
    "4. 3 characteristics are eliminated from the data set due to the type of data and their null contribution to the analysis.\n",
    "5. The AUC-ROC score is above 50%, this does not seem so bad at first glance; However, looking at the F1 score, it is concluded that more processing of the data is required.\n",
    "6. It was separated into a proportion of 70% for training data, 15% data for validation and 15% for test data since they showed the best results and the best relationship between the amount of data to train, validate and test (it was tested with 60 /20/20 and with 80/10/10)."
   ]
  },
  {
   "cell_type": "markdown",
   "metadata": {},
   "source": [
    "### Data balancing using upsampled and downsampled. <a id='balance'></a>\n"
   ]
  },
  {
   "cell_type": "code",
   "execution_count": 36,
   "metadata": {},
   "outputs": [
    {
     "name": "stdout",
     "output_type": "stream",
     "text": [
      "The oversampled features have dimensions: (9822, 11)\n",
      "The oversampled target has dimensions: (9822,)\n",
      "The subsampled characteristics have dimensions: (3088, 11)\n",
      "The subsampled target has dimensions: (3088,)\n"
     ]
    }
   ],
   "source": [
    "# A function is created to balance the data and create the a dataset downsampled and upsampled\n",
    "\n",
    "def downsampled_or_upsampled(features, target, rep_or_frac):\n",
    "    # class vectors are created for objective and features\n",
    "    features = pd.DataFrame(features)\n",
    "    target = pd.Series(target).reset_index(drop=True)\n",
    "    # Class 0 and 1 are distinguished\n",
    "    features_zeros = features[target == 0]\n",
    "    features_ones = features[target == 1]\n",
    "    target_zeros = target[target == 0]\n",
    "    target_ones = target[target == 1]\n",
    "    # If the value is greater than 1, it is oversampling. \n",
    "    if rep_or_frac > 1:\n",
    "        features_upsampled = pd.concat([features_zeros] + [features_ones] * rep_or_frac)\n",
    "        target_upsampled = pd.concat([target_zeros] + [target_ones] * rep_or_frac)\n",
    "\n",
    "        features_upsampled, target_upsampled = shuffle(features_upsampled, target_upsampled, random_state=12345)\n",
    "        \n",
    "        return features_upsampled, target_upsampled\n",
    "    # Less than 1, it is downsampling.\n",
    "    elif rep_or_frac < 1:\n",
    "        features_downsampled = pd.concat([features_zeros.sample(frac=rep_or_frac, random_state=12345)]+ [features_ones])\n",
    "        target_downsampled = pd.concat([target_zeros.sample(frac=rep_or_frac, random_state=12345)]+ [target_ones])\n",
    "\n",
    "        features_downsampled, target_downsampled = shuffle(features_downsampled, target_downsampled, random_state=12345)\n",
    "\n",
    "        return features_downsampled, target_downsampled\n",
    "# the function is called\n",
    "features_upsampled, target_upsampled = downsampled_or_upsampled(X_train, y_train, 3)\n",
    "features_downsampled, target_downsampled = downsampled_or_upsampled(X_train, y_train, 0.3)\n",
    "# Print the shape of the new datasets\n",
    "print(\"The oversampled features have dimensions:\", features_upsampled.shape)\n",
    "print(\"The oversampled target has dimensions:\", target_upsampled.shape)\n",
    "print(\"The subsampled characteristics have dimensions:\", features_downsampled.shape)\n",
    "print(\"The subsampled target has dimensions:\", target_downsampled.shape)"
   ]
  },
  {
   "cell_type": "markdown",
   "metadata": {},
   "source": [
    "### DecisionTreeClassifier with corrected data. <a id='decisiontree'></a>\n"
   ]
  },
  {
   "cell_type": "code",
   "execution_count": 39,
   "metadata": {},
   "outputs": [
    {
     "name": "stdout",
     "output_type": "stream",
     "text": [
      "The accuracy of the best model on the validation set (max_depth = 0): 0.8313333333333334\n"
     ]
    }
   ],
   "source": [
    "# For loop to obtain the best hyperparameter of the decision tree\n",
    "best_score = 0\n",
    "best_est = 0\n",
    "for depth in range(1, 30): \n",
    "    model = DecisionTreeClassifier(random_state=12345, max_depth = depth) \n",
    "    model.fit(features_upsampled, target_upsampled) \n",
    "    score = model.score(X_valid, y_valid)\n",
    "    if score > best_score:\n",
    "        best_score = score\n",
    "        best_depth = depth\n",
    "\n",
    "print(\"The accuracy of the best model on the validation set (max_depth = {}): {}\".format(best_est, best_score))"
   ]
  },
  {
   "cell_type": "code",
   "execution_count": 40,
   "metadata": {},
   "outputs": [
    {
     "data": {
      "text/html": [
       "<style>#sk-container-id-1 {\n",
       "  /* Definition of color scheme common for light and dark mode */\n",
       "  --sklearn-color-text: black;\n",
       "  --sklearn-color-line: gray;\n",
       "  /* Definition of color scheme for unfitted estimators */\n",
       "  --sklearn-color-unfitted-level-0: #fff5e6;\n",
       "  --sklearn-color-unfitted-level-1: #f6e4d2;\n",
       "  --sklearn-color-unfitted-level-2: #ffe0b3;\n",
       "  --sklearn-color-unfitted-level-3: chocolate;\n",
       "  /* Definition of color scheme for fitted estimators */\n",
       "  --sklearn-color-fitted-level-0: #f0f8ff;\n",
       "  --sklearn-color-fitted-level-1: #d4ebff;\n",
       "  --sklearn-color-fitted-level-2: #b3dbfd;\n",
       "  --sklearn-color-fitted-level-3: cornflowerblue;\n",
       "\n",
       "  /* Specific color for light theme */\n",
       "  --sklearn-color-text-on-default-background: var(--sg-text-color, var(--theme-code-foreground, var(--jp-content-font-color1, black)));\n",
       "  --sklearn-color-background: var(--sg-background-color, var(--theme-background, var(--jp-layout-color0, white)));\n",
       "  --sklearn-color-border-box: var(--sg-text-color, var(--theme-code-foreground, var(--jp-content-font-color1, black)));\n",
       "  --sklearn-color-icon: #696969;\n",
       "\n",
       "  @media (prefers-color-scheme: dark) {\n",
       "    /* Redefinition of color scheme for dark theme */\n",
       "    --sklearn-color-text-on-default-background: var(--sg-text-color, var(--theme-code-foreground, var(--jp-content-font-color1, white)));\n",
       "    --sklearn-color-background: var(--sg-background-color, var(--theme-background, var(--jp-layout-color0, #111)));\n",
       "    --sklearn-color-border-box: var(--sg-text-color, var(--theme-code-foreground, var(--jp-content-font-color1, white)));\n",
       "    --sklearn-color-icon: #878787;\n",
       "  }\n",
       "}\n",
       "\n",
       "#sk-container-id-1 {\n",
       "  color: var(--sklearn-color-text);\n",
       "}\n",
       "\n",
       "#sk-container-id-1 pre {\n",
       "  padding: 0;\n",
       "}\n",
       "\n",
       "#sk-container-id-1 input.sk-hidden--visually {\n",
       "  border: 0;\n",
       "  clip: rect(1px 1px 1px 1px);\n",
       "  clip: rect(1px, 1px, 1px, 1px);\n",
       "  height: 1px;\n",
       "  margin: -1px;\n",
       "  overflow: hidden;\n",
       "  padding: 0;\n",
       "  position: absolute;\n",
       "  width: 1px;\n",
       "}\n",
       "\n",
       "#sk-container-id-1 div.sk-dashed-wrapped {\n",
       "  border: 1px dashed var(--sklearn-color-line);\n",
       "  margin: 0 0.4em 0.5em 0.4em;\n",
       "  box-sizing: border-box;\n",
       "  padding-bottom: 0.4em;\n",
       "  background-color: var(--sklearn-color-background);\n",
       "}\n",
       "\n",
       "#sk-container-id-1 div.sk-container {\n",
       "  /* jupyter's `normalize.less` sets `[hidden] { display: none; }`\n",
       "     but bootstrap.min.css set `[hidden] { display: none !important; }`\n",
       "     so we also need the `!important` here to be able to override the\n",
       "     default hidden behavior on the sphinx rendered scikit-learn.org.\n",
       "     See: https://github.com/scikit-learn/scikit-learn/issues/21755 */\n",
       "  display: inline-block !important;\n",
       "  position: relative;\n",
       "}\n",
       "\n",
       "#sk-container-id-1 div.sk-text-repr-fallback {\n",
       "  display: none;\n",
       "}\n",
       "\n",
       "div.sk-parallel-item,\n",
       "div.sk-serial,\n",
       "div.sk-item {\n",
       "  /* draw centered vertical line to link estimators */\n",
       "  background-image: linear-gradient(var(--sklearn-color-text-on-default-background), var(--sklearn-color-text-on-default-background));\n",
       "  background-size: 2px 100%;\n",
       "  background-repeat: no-repeat;\n",
       "  background-position: center center;\n",
       "}\n",
       "\n",
       "/* Parallel-specific style estimator block */\n",
       "\n",
       "#sk-container-id-1 div.sk-parallel-item::after {\n",
       "  content: \"\";\n",
       "  width: 100%;\n",
       "  border-bottom: 2px solid var(--sklearn-color-text-on-default-background);\n",
       "  flex-grow: 1;\n",
       "}\n",
       "\n",
       "#sk-container-id-1 div.sk-parallel {\n",
       "  display: flex;\n",
       "  align-items: stretch;\n",
       "  justify-content: center;\n",
       "  background-color: var(--sklearn-color-background);\n",
       "  position: relative;\n",
       "}\n",
       "\n",
       "#sk-container-id-1 div.sk-parallel-item {\n",
       "  display: flex;\n",
       "  flex-direction: column;\n",
       "}\n",
       "\n",
       "#sk-container-id-1 div.sk-parallel-item:first-child::after {\n",
       "  align-self: flex-end;\n",
       "  width: 50%;\n",
       "}\n",
       "\n",
       "#sk-container-id-1 div.sk-parallel-item:last-child::after {\n",
       "  align-self: flex-start;\n",
       "  width: 50%;\n",
       "}\n",
       "\n",
       "#sk-container-id-1 div.sk-parallel-item:only-child::after {\n",
       "  width: 0;\n",
       "}\n",
       "\n",
       "/* Serial-specific style estimator block */\n",
       "\n",
       "#sk-container-id-1 div.sk-serial {\n",
       "  display: flex;\n",
       "  flex-direction: column;\n",
       "  align-items: center;\n",
       "  background-color: var(--sklearn-color-background);\n",
       "  padding-right: 1em;\n",
       "  padding-left: 1em;\n",
       "}\n",
       "\n",
       "\n",
       "/* Toggleable style: style used for estimator/Pipeline/ColumnTransformer box that is\n",
       "clickable and can be expanded/collapsed.\n",
       "- Pipeline and ColumnTransformer use this feature and define the default style\n",
       "- Estimators will overwrite some part of the style using the `sk-estimator` class\n",
       "*/\n",
       "\n",
       "/* Pipeline and ColumnTransformer style (default) */\n",
       "\n",
       "#sk-container-id-1 div.sk-toggleable {\n",
       "  /* Default theme specific background. It is overwritten whether we have a\n",
       "  specific estimator or a Pipeline/ColumnTransformer */\n",
       "  background-color: var(--sklearn-color-background);\n",
       "}\n",
       "\n",
       "/* Toggleable label */\n",
       "#sk-container-id-1 label.sk-toggleable__label {\n",
       "  cursor: pointer;\n",
       "  display: block;\n",
       "  width: 100%;\n",
       "  margin-bottom: 0;\n",
       "  padding: 0.5em;\n",
       "  box-sizing: border-box;\n",
       "  text-align: center;\n",
       "}\n",
       "\n",
       "#sk-container-id-1 label.sk-toggleable__label-arrow:before {\n",
       "  /* Arrow on the left of the label */\n",
       "  content: \"▸\";\n",
       "  float: left;\n",
       "  margin-right: 0.25em;\n",
       "  color: var(--sklearn-color-icon);\n",
       "}\n",
       "\n",
       "#sk-container-id-1 label.sk-toggleable__label-arrow:hover:before {\n",
       "  color: var(--sklearn-color-text);\n",
       "}\n",
       "\n",
       "/* Toggleable content - dropdown */\n",
       "\n",
       "#sk-container-id-1 div.sk-toggleable__content {\n",
       "  max-height: 0;\n",
       "  max-width: 0;\n",
       "  overflow: hidden;\n",
       "  text-align: left;\n",
       "  /* unfitted */\n",
       "  background-color: var(--sklearn-color-unfitted-level-0);\n",
       "}\n",
       "\n",
       "#sk-container-id-1 div.sk-toggleable__content.fitted {\n",
       "  /* fitted */\n",
       "  background-color: var(--sklearn-color-fitted-level-0);\n",
       "}\n",
       "\n",
       "#sk-container-id-1 div.sk-toggleable__content pre {\n",
       "  margin: 0.2em;\n",
       "  border-radius: 0.25em;\n",
       "  color: var(--sklearn-color-text);\n",
       "  /* unfitted */\n",
       "  background-color: var(--sklearn-color-unfitted-level-0);\n",
       "}\n",
       "\n",
       "#sk-container-id-1 div.sk-toggleable__content.fitted pre {\n",
       "  /* unfitted */\n",
       "  background-color: var(--sklearn-color-fitted-level-0);\n",
       "}\n",
       "\n",
       "#sk-container-id-1 input.sk-toggleable__control:checked~div.sk-toggleable__content {\n",
       "  /* Expand drop-down */\n",
       "  max-height: 200px;\n",
       "  max-width: 100%;\n",
       "  overflow: auto;\n",
       "}\n",
       "\n",
       "#sk-container-id-1 input.sk-toggleable__control:checked~label.sk-toggleable__label-arrow:before {\n",
       "  content: \"▾\";\n",
       "}\n",
       "\n",
       "/* Pipeline/ColumnTransformer-specific style */\n",
       "\n",
       "#sk-container-id-1 div.sk-label input.sk-toggleable__control:checked~label.sk-toggleable__label {\n",
       "  color: var(--sklearn-color-text);\n",
       "  background-color: var(--sklearn-color-unfitted-level-2);\n",
       "}\n",
       "\n",
       "#sk-container-id-1 div.sk-label.fitted input.sk-toggleable__control:checked~label.sk-toggleable__label {\n",
       "  background-color: var(--sklearn-color-fitted-level-2);\n",
       "}\n",
       "\n",
       "/* Estimator-specific style */\n",
       "\n",
       "/* Colorize estimator box */\n",
       "#sk-container-id-1 div.sk-estimator input.sk-toggleable__control:checked~label.sk-toggleable__label {\n",
       "  /* unfitted */\n",
       "  background-color: var(--sklearn-color-unfitted-level-2);\n",
       "}\n",
       "\n",
       "#sk-container-id-1 div.sk-estimator.fitted input.sk-toggleable__control:checked~label.sk-toggleable__label {\n",
       "  /* fitted */\n",
       "  background-color: var(--sklearn-color-fitted-level-2);\n",
       "}\n",
       "\n",
       "#sk-container-id-1 div.sk-label label.sk-toggleable__label,\n",
       "#sk-container-id-1 div.sk-label label {\n",
       "  /* The background is the default theme color */\n",
       "  color: var(--sklearn-color-text-on-default-background);\n",
       "}\n",
       "\n",
       "/* On hover, darken the color of the background */\n",
       "#sk-container-id-1 div.sk-label:hover label.sk-toggleable__label {\n",
       "  color: var(--sklearn-color-text);\n",
       "  background-color: var(--sklearn-color-unfitted-level-2);\n",
       "}\n",
       "\n",
       "/* Label box, darken color on hover, fitted */\n",
       "#sk-container-id-1 div.sk-label.fitted:hover label.sk-toggleable__label.fitted {\n",
       "  color: var(--sklearn-color-text);\n",
       "  background-color: var(--sklearn-color-fitted-level-2);\n",
       "}\n",
       "\n",
       "/* Estimator label */\n",
       "\n",
       "#sk-container-id-1 div.sk-label label {\n",
       "  font-family: monospace;\n",
       "  font-weight: bold;\n",
       "  display: inline-block;\n",
       "  line-height: 1.2em;\n",
       "}\n",
       "\n",
       "#sk-container-id-1 div.sk-label-container {\n",
       "  text-align: center;\n",
       "}\n",
       "\n",
       "/* Estimator-specific */\n",
       "#sk-container-id-1 div.sk-estimator {\n",
       "  font-family: monospace;\n",
       "  border: 1px dotted var(--sklearn-color-border-box);\n",
       "  border-radius: 0.25em;\n",
       "  box-sizing: border-box;\n",
       "  margin-bottom: 0.5em;\n",
       "  /* unfitted */\n",
       "  background-color: var(--sklearn-color-unfitted-level-0);\n",
       "}\n",
       "\n",
       "#sk-container-id-1 div.sk-estimator.fitted {\n",
       "  /* fitted */\n",
       "  background-color: var(--sklearn-color-fitted-level-0);\n",
       "}\n",
       "\n",
       "/* on hover */\n",
       "#sk-container-id-1 div.sk-estimator:hover {\n",
       "  /* unfitted */\n",
       "  background-color: var(--sklearn-color-unfitted-level-2);\n",
       "}\n",
       "\n",
       "#sk-container-id-1 div.sk-estimator.fitted:hover {\n",
       "  /* fitted */\n",
       "  background-color: var(--sklearn-color-fitted-level-2);\n",
       "}\n",
       "\n",
       "/* Specification for estimator info (e.g. \"i\" and \"?\") */\n",
       "\n",
       "/* Common style for \"i\" and \"?\" */\n",
       "\n",
       ".sk-estimator-doc-link,\n",
       "a:link.sk-estimator-doc-link,\n",
       "a:visited.sk-estimator-doc-link {\n",
       "  float: right;\n",
       "  font-size: smaller;\n",
       "  line-height: 1em;\n",
       "  font-family: monospace;\n",
       "  background-color: var(--sklearn-color-background);\n",
       "  border-radius: 1em;\n",
       "  height: 1em;\n",
       "  width: 1em;\n",
       "  text-decoration: none !important;\n",
       "  margin-left: 1ex;\n",
       "  /* unfitted */\n",
       "  border: var(--sklearn-color-unfitted-level-1) 1pt solid;\n",
       "  color: var(--sklearn-color-unfitted-level-1);\n",
       "}\n",
       "\n",
       ".sk-estimator-doc-link.fitted,\n",
       "a:link.sk-estimator-doc-link.fitted,\n",
       "a:visited.sk-estimator-doc-link.fitted {\n",
       "  /* fitted */\n",
       "  border: var(--sklearn-color-fitted-level-1) 1pt solid;\n",
       "  color: var(--sklearn-color-fitted-level-1);\n",
       "}\n",
       "\n",
       "/* On hover */\n",
       "div.sk-estimator:hover .sk-estimator-doc-link:hover,\n",
       ".sk-estimator-doc-link:hover,\n",
       "div.sk-label-container:hover .sk-estimator-doc-link:hover,\n",
       ".sk-estimator-doc-link:hover {\n",
       "  /* unfitted */\n",
       "  background-color: var(--sklearn-color-unfitted-level-3);\n",
       "  color: var(--sklearn-color-background);\n",
       "  text-decoration: none;\n",
       "}\n",
       "\n",
       "div.sk-estimator.fitted:hover .sk-estimator-doc-link.fitted:hover,\n",
       ".sk-estimator-doc-link.fitted:hover,\n",
       "div.sk-label-container:hover .sk-estimator-doc-link.fitted:hover,\n",
       ".sk-estimator-doc-link.fitted:hover {\n",
       "  /* fitted */\n",
       "  background-color: var(--sklearn-color-fitted-level-3);\n",
       "  color: var(--sklearn-color-background);\n",
       "  text-decoration: none;\n",
       "}\n",
       "\n",
       "/* Span, style for the box shown on hovering the info icon */\n",
       ".sk-estimator-doc-link span {\n",
       "  display: none;\n",
       "  z-index: 9999;\n",
       "  position: relative;\n",
       "  font-weight: normal;\n",
       "  right: .2ex;\n",
       "  padding: .5ex;\n",
       "  margin: .5ex;\n",
       "  width: min-content;\n",
       "  min-width: 20ex;\n",
       "  max-width: 50ex;\n",
       "  color: var(--sklearn-color-text);\n",
       "  box-shadow: 2pt 2pt 4pt #999;\n",
       "  /* unfitted */\n",
       "  background: var(--sklearn-color-unfitted-level-0);\n",
       "  border: .5pt solid var(--sklearn-color-unfitted-level-3);\n",
       "}\n",
       "\n",
       ".sk-estimator-doc-link.fitted span {\n",
       "  /* fitted */\n",
       "  background: var(--sklearn-color-fitted-level-0);\n",
       "  border: var(--sklearn-color-fitted-level-3);\n",
       "}\n",
       "\n",
       ".sk-estimator-doc-link:hover span {\n",
       "  display: block;\n",
       "}\n",
       "\n",
       "/* \"?\"-specific style due to the `<a>` HTML tag */\n",
       "\n",
       "#sk-container-id-1 a.estimator_doc_link {\n",
       "  float: right;\n",
       "  font-size: 1rem;\n",
       "  line-height: 1em;\n",
       "  font-family: monospace;\n",
       "  background-color: var(--sklearn-color-background);\n",
       "  border-radius: 1rem;\n",
       "  height: 1rem;\n",
       "  width: 1rem;\n",
       "  text-decoration: none;\n",
       "  /* unfitted */\n",
       "  color: var(--sklearn-color-unfitted-level-1);\n",
       "  border: var(--sklearn-color-unfitted-level-1) 1pt solid;\n",
       "}\n",
       "\n",
       "#sk-container-id-1 a.estimator_doc_link.fitted {\n",
       "  /* fitted */\n",
       "  border: var(--sklearn-color-fitted-level-1) 1pt solid;\n",
       "  color: var(--sklearn-color-fitted-level-1);\n",
       "}\n",
       "\n",
       "/* On hover */\n",
       "#sk-container-id-1 a.estimator_doc_link:hover {\n",
       "  /* unfitted */\n",
       "  background-color: var(--sklearn-color-unfitted-level-3);\n",
       "  color: var(--sklearn-color-background);\n",
       "  text-decoration: none;\n",
       "}\n",
       "\n",
       "#sk-container-id-1 a.estimator_doc_link.fitted:hover {\n",
       "  /* fitted */\n",
       "  background-color: var(--sklearn-color-fitted-level-3);\n",
       "}\n",
       "</style><div id=\"sk-container-id-1\" class=\"sk-top-container\"><div class=\"sk-text-repr-fallback\"><pre>DecisionTreeClassifier(max_depth=19, random_state=12345)</pre><b>In a Jupyter environment, please rerun this cell to show the HTML representation or trust the notebook. <br />On GitHub, the HTML representation is unable to render, please try loading this page with nbviewer.org.</b></div><div class=\"sk-container\" hidden><div class=\"sk-item\"><div class=\"sk-estimator fitted sk-toggleable\"><input class=\"sk-toggleable__control sk-hidden--visually\" id=\"sk-estimator-id-1\" type=\"checkbox\" checked><label for=\"sk-estimator-id-1\" class=\"sk-toggleable__label fitted sk-toggleable__label-arrow fitted\">&nbsp;&nbsp;DecisionTreeClassifier<a class=\"sk-estimator-doc-link fitted\" rel=\"noreferrer\" target=\"_blank\" href=\"https://scikit-learn.org/1.5/modules/generated/sklearn.tree.DecisionTreeClassifier.html\">?<span>Documentation for DecisionTreeClassifier</span></a><span class=\"sk-estimator-doc-link fitted\">i<span>Fitted</span></span></label><div class=\"sk-toggleable__content fitted\"><pre>DecisionTreeClassifier(max_depth=19, random_state=12345)</pre></div> </div></div></div></div>"
      ],
      "text/plain": [
       "DecisionTreeClassifier(max_depth=19, random_state=12345)"
      ]
     },
     "execution_count": 40,
     "metadata": {},
     "output_type": "execute_result"
    }
   ],
   "source": [
    "# DecisionTreeClassifier with upsampled data\n",
    "\n",
    "model_upsampled_decisiontree = DecisionTreeClassifier(random_state=12345, max_depth = 19)\n",
    "model_upsampled_decisiontree.fit(features_upsampled, target_upsampled)\n",
    "\n",
    "# DecisionTreeClassifier with downsampled data\n",
    "\n",
    "model_downsampled_decisiontree = DecisionTreeClassifier(random_state=12345, max_depth = 19)\n",
    "model_downsampled_decisiontree.fit(features_upsampled, target_upsampled)"
   ]
  },
  {
   "cell_type": "code",
   "execution_count": 41,
   "metadata": {},
   "outputs": [
    {
     "name": "stdout",
     "output_type": "stream",
     "text": [
      "Scores for DecisionTree with upsampled data\n",
      "\n",
      "F1 Score (upsampled): 0.477124183006536\n",
      "AUC-ROC (upsampled): 0.6726029416984527\n",
      "\n",
      "Scores for DecisionTree with downsampled data\n",
      "\n",
      "F1 Score (downsampled): 0.477124183006536\n",
      "AUC-ROC (downsampled): 0.6726029416984527\n"
     ]
    }
   ],
   "source": [
    "# Evaluation on the validation set with upsampled data\n",
    "y_pred_upsampled = model_upsampled_decisiontree.predict(X_valid)\n",
    "f1_upsampled_decisiontree = f1_score(y_valid, y_pred_upsampled)\n",
    "roc_auc_upsampled_decisiontree = roc_auc_score(y_valid, model_upsampled_decisiontree.predict_proba(X_valid)[:, 1])\n",
    "print(\"Scores for DecisionTree with upsampled data\")\n",
    "print(\"\")\n",
    "print(\"F1 Score (upsampled):\", f1_upsampled_decisiontree)\n",
    "print(\"AUC-ROC (upsampled):\", roc_auc_upsampled_decisiontree)\n",
    "\n",
    "# Evaluation on the validation set with downsampled data\n",
    "y_pred_downsampled = model_downsampled_decisiontree.predict(X_valid)\n",
    "f1_downsampled_decisiontree = f1_score(y_valid, y_pred_downsampled)\n",
    "roc_auc_downsampled_decisiontree = roc_auc_score(y_valid, model_downsampled_decisiontree.predict_proba(X_valid)[:, 1])\n",
    "print(\"\")\n",
    "print(\"Scores for DecisionTree with downsampled data\")\n",
    "print(\"\")\n",
    "print(\"F1 Score (downsampled):\", f1_downsampled_decisiontree)\n",
    "print(\"AUC-ROC (downsampled):\", roc_auc_downsampled_decisiontree)"
   ]
  },
  {
   "cell_type": "markdown",
   "metadata": {},
   "source": [
    "### LogisticRegression with corrected data. <a id='logistic_corrected'></a>\n"
   ]
  },
  {
   "cell_type": "code",
   "execution_count": 43,
   "metadata": {},
   "outputs": [
    {
     "name": "stdout",
     "output_type": "stream",
     "text": [
      "Scores for LogisticRegression with upsampled data\n",
      "\n",
      "F1 Score (upsampled): 0.5101763907734057\n",
      "AUC-ROC (upsampled): 0.7792306369129367\n",
      "\n",
      "Scores for LogisticRegression with downsampled data\n",
      "\n",
      "F1 Score (downsampled): 0.5113924050632911\n",
      "AUC-ROC (downsampled): 0.7802545249023212\n"
     ]
    }
   ],
   "source": [
    "# LogisticRegression with upsampled data\n",
    "\n",
    "model_upsampled_logisticregression = LogisticRegression(random_state=12345)\n",
    "model_upsampled_logisticregression.fit(features_upsampled, target_upsampled)\n",
    "\n",
    "# LogisticRegression with downsampled data\n",
    "\n",
    "model_downsampled_logisticregression = LogisticRegression(random_state=12345)\n",
    "model_downsampled_logisticregression.fit(features_downsampled, target_downsampled)\n",
    "\n",
    "# Evaluation on the validation set with upsampled data\n",
    "y_pred_upsampled = model_upsampled_logisticregression.predict(X_valid)\n",
    "f1_upsampled_logisticregression = f1_score(y_valid, y_pred_upsampled)\n",
    "roc_auc_upsampled_logisticregression = roc_auc_score(y_valid, model_upsampled_logisticregression.predict_proba(X_valid)[:, 1])\n",
    "print(\"Scores for LogisticRegression with upsampled data\")\n",
    "print(\"\")\n",
    "print(\"F1 Score (upsampled):\", f1_upsampled_logisticregression)\n",
    "print(\"AUC-ROC (upsampled):\", roc_auc_upsampled_logisticregression)\n",
    "\n",
    "# Evaluation on the validation set with downsampled data\n",
    "y_pred_downsampled = model_downsampled_logisticregression.predict(X_valid)\n",
    "f1_downsampled_logisticregression = f1_score(y_valid, y_pred_downsampled)\n",
    "roc_auc_downsampled_logisticregression = roc_auc_score(y_valid, model_downsampled_logisticregression.predict_proba(X_valid)[:, 1])\n",
    "print(\"\")\n",
    "print(\"Scores for LogisticRegression with downsampled data\")\n",
    "print(\"\")\n",
    "print(\"F1 Score (downsampled):\", f1_downsampled_logisticregression)\n",
    "print(\"AUC-ROC (downsampled):\", roc_auc_downsampled_logisticregression)"
   ]
  },
  {
   "cell_type": "markdown",
   "metadata": {},
   "source": [
    "### RandomForestClassifier with corrected data. <a id='randomf'></a>\n"
   ]
  },
  {
   "cell_type": "code",
   "execution_count": null,
   "metadata": {},
   "outputs": [],
   "source": [
    "# For loop to obtain the best hyperparameter of the RandomForestClassifier with upsampled\n",
    "best_score = 0\n",
    "best_est = 0\n",
    "for est in range(1, 20): \n",
    "    model = RandomForestClassifier(random_state=12345, n_estimators=est) \n",
    "    model.fit(features_upsampled, target_upsampled)\n",
    "    score = model.score(X_valid, y_valid)\n",
    "    if score > best_score:\n",
    "        best_score = score\n",
    "        best_est = est\n",
    "\n",
    "print(\"The accuracy of the best model on the validation set with upsampled (n_estimators = {}): {}\".format(best_est, best_score))\n",
    "\n",
    "# For loop to obtain the best hyperparameter of the RandomForestClassifier with downsampled\n",
    "best_score = 0\n",
    "best_est = 0\n",
    "for est in range(1, 20): \n",
    "    model = RandomForestClassifier(random_state=12345, n_estimators=est) \n",
    "    model.fit(features_downsampled, target_downsampled) \n",
    "    score = model.score(X_valid, y_valid)\n",
    "    if score > best_score:\n",
    "        best_score = score\n",
    "        best_est = est\n",
    "\n",
    "print(\"The accuracy of the best model on the validation set with downsampled (n_estimators = {}): {}\".format(best_est, best_score))"
   ]
  },
  {
   "cell_type": "code",
   "execution_count": null,
   "metadata": {},
   "outputs": [],
   "source": [
    "# RandomForest with upsampled data\n",
    "model_upsampled_RandomForest = RandomForestClassifier(random_state=12345, n_estimators=18, max_depth = 12)\n",
    "model_upsampled_RandomForest.fit(features_upsampled, target_upsampled)\n",
    "\n",
    "# RandomForest with downsampled data\n",
    "\n",
    "model_downsampled_RandomForest = RandomForestClassifier(random_state=12345, n_estimators=12, max_depth = 19)\n",
    "model_downsampled_RandomForest.fit(features_downsampled, target_downsampled)\n",
    "\n",
    "# Evaluation on the validation set with upsampled data\n",
    "y_pred_upsampled = model_upsampled_RandomForest.predict(X_valid)\n",
    "f1_upsampled_RandomForest = f1_score(y_valid, y_pred_upsampled)\n",
    "roc_auc_upsampled_RandomForest = roc_auc_score(y_valid, model_upsampled_RandomForest.predict_proba(X_valid)[:, 1])\n",
    "print(\"Scores for RandomForest with upsampled data\")\n",
    "print(\"\")\n",
    "print(\"F1 Score (upsampled):\", f1_upsampled_RandomForest)\n",
    "print(\"AUC-ROC (upsampled):\", roc_auc_upsampled_RandomForest)\n",
    "\n",
    "# Evaluation on the validation set with downsampled data\n",
    "y_pred_downsampled = model_downsampled_RandomForest.predict(X_valid)\n",
    "f1_downsampled_RandomForest = f1_score(y_valid, y_pred_downsampled)\n",
    "roc_auc_downsampled_RandomForest = roc_auc_score(y_valid, model_downsampled_RandomForest.predict_proba(X_valid)[:, 1])\n",
    "print(\"\")\n",
    "print(\"Scores for RandomForest with downsampled data\")\n",
    "print(\"\")\n",
    "print(\"F1 Score (downsampled):\", f1_downsampled_RandomForest)\n",
    "print(\"AUC-ROC (downsampled):\", roc_auc_downsampled_RandomForest)"
   ]
  },
  {
   "cell_type": "markdown",
   "metadata": {},
   "source": [
    "### Test of the best model. <a id='test_bestmodel'></a>\n"
   ]
  },
  {
   "cell_type": "code",
   "execution_count": null,
   "metadata": {},
   "outputs": [],
   "source": [
    "# Evaluate the best model on the test set (we use RandomForest upsampling in this case)\n",
    "y_pred_test = model_upsampled_RandomForest.predict(X_test)\n",
    "f1_test = f1_score(y_test, y_pred_test)\n",
    "roc_auc_test = roc_auc_score(y_test, model_upsampled_RandomForest.predict_proba(X_test)[:, 1])\n",
    "\n",
    "print(\"F1 Score (test set):\", f1_test)\n",
    "print(\"AUC-ROC (test set):\", roc_auc_test)"
   ]
  },
  {
   "cell_type": "code",
   "execution_count": null,
   "metadata": {},
   "outputs": [],
   "source": [
    "# We calculate the values for the ROC curve\n",
    "fpr, tpr, thresholds = roc_curve(y_test, model_upsampled_RandomForest.predict_proba(X_test)[:, 1])\n",
    "\n",
    "plt.figure()\n",
    "\n",
    "plt.plot(fpr, tpr)\n",
    "\n",
    "# ROC curve for random model (looks like a straight line)\n",
    "plt.plot([0, 1], [0, 1], linestyle='--')\n",
    "\n",
    "plt.ylim([0.0, 1.0])\n",
    "plt.xlim([0.0, 1.0])\n",
    "\n",
    "plt.xlabel('False positive rate')\n",
    "plt.ylabel('True positive rate')\n",
    "\n",
    "plt.title('ROC curve')\n",
    "\n",
    "plt.show()"
   ]
  },
  {
   "cell_type": "markdown",
   "metadata": {},
   "source": [
    "**Observations**\n",
    "\n",
    "1. The best model for this analysis was random forests with results of 60.01% for the data test in the F1 score and 84.55% in the region under the AUC-ROC curve. This result was achieved with n_estimators set to 18 and max_depth set to 12.\n",
    "2. 3 decision tree models, logistic regression and random forests were trained.\n",
    "3. The technique that worked best to balance the classes in a random forest was oversampling, for decision trees both techniques worked the same and for logistic regression subsampling was the one that gave the best results.\n",
    "4. The oversampling was repeated 3 times for class 1 and divided by 3 for the undersampling in class 0.\n",
    "5. For loops were used to get an idea of the values of hyperparameters in random forests and decision trees, it is not easy to find the optimal values, by testing the optimal values did not give the best results in the test, by making changes it was possible to find values that they went a little over the target."
   ]
  },
  {
   "cell_type": "markdown",
   "metadata": {},
   "source": [
    "### Extra analysis: Analyzed only with training and validation data. <a id='extra_analysis'></a>\n"
   ]
  },
  {
   "cell_type": "code",
   "execution_count": 25,
   "metadata": {},
   "outputs": [],
   "source": [
    "# Split the dataset in train, validation and test set validation Dividir el dataset en conjuntos de entrenamiento, validación y prueba (75% entrenamiento, 25% validación)\n",
    "\n",
    "X_train2, X_valid2, y_train2, y_valid2 = train_test_split(features, target, test_size=0.25, random_state=12345)"
   ]
  },
  {
   "cell_type": "code",
   "execution_count": 26,
   "metadata": {},
   "outputs": [],
   "source": [
    "# Data scaling\n",
    "\n",
    "X_train2 = sc.fit_transform(X_train2)\n",
    "X_valid2 = sc.fit_transform(X_valid2)"
   ]
  },
  {
   "cell_type": "code",
   "execution_count": 27,
   "metadata": {},
   "outputs": [],
   "source": [
    "# A function is created to balance the data and create the a dataset downsampled and upsampled\n",
    "\n",
    "def downsampled_or_upsampled(features, target, rep_or_frac):\n",
    "    features = pd.DataFrame(features)\n",
    "    target = pd.Series(target).reset_index(drop=True)\n",
    "    features_zeros = features[target == 0]\n",
    "    features_ones = features[target == 1]\n",
    "    target_zeros = target[target == 0]\n",
    "    target_ones = target[target == 1]\n",
    "    \n",
    "    if rep_or_frac > 1:\n",
    "        features_upsampled = pd.concat([features_zeros] + [features_ones] * rep_or_frac)\n",
    "        target_upsampled = pd.concat([target_zeros] + [target_ones] * rep_or_frac)\n",
    "\n",
    "        features_upsampled, target_upsampled = shuffle(features_upsampled, target_upsampled, random_state=12345)\n",
    "        \n",
    "        return features_upsampled, target_upsampled\n",
    "    elif rep_or_frac < 1:\n",
    "        features_downsampled = pd.concat([features_zeros.sample(frac=rep_or_frac, random_state=12345)]+ [features_ones])\n",
    "        target_downsampled = pd.concat([target_zeros.sample(frac=rep_or_frac, random_state=12345)]+ [target_ones])\n",
    "\n",
    "        features_downsampled, target_downsampled = shuffle(features_downsampled, target_downsampled, random_state=12345)\n",
    "\n",
    "        return features_downsampled, target_downsampled\n",
    "\n",
    "features_upsampled2, target_upsampled2 = downsampled_or_upsampled(X_train2, y_train2, 3)\n",
    "features_downsampled2, target_downsampled2 = downsampled_or_upsampled(X_train2, y_train2, 0.3)"
   ]
  },
  {
   "cell_type": "code",
   "execution_count": 28,
   "metadata": {},
   "outputs": [
    {
     "name": "stdout",
     "output_type": "stream",
     "text": [
      "The accuracy of the best model on the validation set with upFor loop to obtain the best hyperparameter of the decision treesampled (n_estimators = 16): 0.8496\n",
      "The accuracy of the best model on the validation set with downsampled (n_estimators = 18): 0.8004\n"
     ]
    }
   ],
   "source": [
    "#For loop to obtain the best hyperparameter of the RandomForest\n",
    "best_score = 0\n",
    "best_est = 0\n",
    "for est in range(1, 20): \n",
    "    model = RandomForestClassifier(random_state=12345, n_estimators=est) \n",
    "    model.fit(features_upsampled2, target_upsampled2) \n",
    "    score = model.score(X_valid2, y_valid2)\n",
    "    if score > best_score:\n",
    "        best_score = score\n",
    "        best_est = est\n",
    "\n",
    "print(\"The accuracy of the best model on the validation set with upFor loop to obtain the best hyperparameter of the decision treesampled (n_estimators = {}): {}\".format(best_est, best_score))\n",
    "\n",
    "best_score = 0\n",
    "best_est = 0\n",
    "for est in range(1, 20): \n",
    "    model = RandomForestClassifier(random_state=12345, n_estimators=est) \n",
    "    model.fit(features_downsampled2, target_downsampled2) \n",
    "    score = model.score(X_valid2, y_valid2)\n",
    "    if score > best_score:\n",
    "        best_score = score\n",
    "        best_est = est\n",
    "\n",
    "print(\"The accuracy of the best model on the validation set with downsampled (n_estimators = {}): {}\".format(best_est, best_score))"
   ]
  },
  {
   "cell_type": "code",
   "execution_count": 30,
   "metadata": {},
   "outputs": [
    {
     "name": "stdout",
     "output_type": "stream",
     "text": [
      "Scores for RandomForest with upsampled data\n",
      "\n",
      "F1 Score (upsampled): 0.6268081002892959\n",
      "AUC-ROC (upsampled): 0.8487655465981785\n",
      "\n",
      "Scores for RandomForest with downsampled data\n",
      "\n",
      "F1 Score (downsampled): 0.5826513911620295\n",
      "AUC-ROC (downsampled): 0.8334493828922023\n"
     ]
    }
   ],
   "source": [
    "# RandomForest with downsampled data\n",
    "model_upsampled_RandomForest2 = RandomForestClassifier(random_state=12345, n_estimators=18, max_depth = 12)\n",
    "model_upsampled_RandomForest2.fit(features_upsampled2, target_upsampled2)\n",
    "\n",
    "# RandomForest with downsampled data\n",
    "\n",
    "model_downsampled_RandomForest2 = RandomForestClassifier(random_state=12345, n_estimators=12, max_depth = 19)\n",
    "model_downsampled_RandomForest2.fit(features_downsampled2, target_downsampled2)\n",
    "\n",
    "# Evaluación en el conjunto de validación with upsampled data\n",
    "y_pred_upsampled2 = model_upsampled_RandomForest2.predict(X_valid2)\n",
    "f1_upsampled_RandomForest2 = f1_score(y_valid2, y_pred_upsampled2)\n",
    "roc_auc_upsampled_RandomForest2 = roc_auc_score(y_valid2, model_upsampled_RandomForest2.predict_proba(X_valid2)[:, 1])\n",
    "print(\"Scores for RandomForest with upsampled data\")\n",
    "print(\"\")\n",
    "print(\"F1 Score (upsampled):\", f1_upsampled_RandomForest2)\n",
    "print(\"AUC-ROC (upsampled):\", roc_auc_upsampled_RandomForest2)\n",
    "\n",
    "# Evaluación en el conjunto de validación with downsampled data\n",
    "y_pred_downsampled2 = model_downsampled_RandomForest2.predict(X_valid2)\n",
    "f1_downsampled_RandomForest2 = f1_score(y_valid2, y_pred_downsampled2)\n",
    "roc_auc_downsampled_RandomForest2 = roc_auc_score(y_valid2, model_downsampled_RandomForest2.predict_proba(X_valid2)[:, 1])\n",
    "print(\"\")\n",
    "print(\"Scores for RandomForest with downsampled data\")\n",
    "print(\"\")\n",
    "print(\"F1 Score (downsampled):\", f1_downsampled_RandomForest2)\n",
    "print(\"AUC-ROC (downsampled):\", roc_auc_downsampled_RandomForest2)"
   ]
  },
  {
   "cell_type": "markdown",
   "metadata": {},
   "source": [
    "**Observations**\n",
    "\n",
    "This extra analysis was carried out to see if in this data set the performance would be better by increasing the training and validation data, it can be seen that although the validation result is improved it is only by less than 3%. This shows how by increasing the training data, the model acquires better performance.\n"
   ]
  },
  {
   "cell_type": "markdown",
   "metadata": {},
   "source": [
    "## Step 4. Final Test. <a id='final_test'></a>\n"
   ]
  },
  {
   "cell_type": "code",
   "execution_count": 32,
   "metadata": {},
   "outputs": [
    {
     "name": "stdout",
     "output_type": "stream",
     "text": [
      "F1 Score (constant model): 0.0\n",
      "AUC-ROC (constant model): 0.5\n"
     ]
    }
   ],
   "source": [
    "# Create a constant model that always predicts the majority class (0)\n",
    "y_pred_constant = pd.Series([0] * len(y_test))\n",
    "\n",
    "# Evaluate the constant model\n",
    "f1_constant = f1_score(y_test, y_pred_constant)\n",
    "roc_auc_constant = roc_auc_score(y_test, y_pred_constant)\n",
    "\n",
    "print(\"F1 Score (constant model):\", f1_constant)\n",
    "print(\"AUC-ROC (constant model):\", roc_auc_constant)"
   ]
  },
  {
   "cell_type": "markdown",
   "metadata": {},
   "source": [
    "## Conclusion. <a id='end'></a>\n"
   ]
  },
  {
   "cell_type": "markdown",
   "metadata": {},
   "source": [
    "The model used in this project that showed the best performance was random forests, with an upsampled AUC score of 84.87%. This allows us to efficiently predict whether the customer is at risk of leaving Beta Bank. Decision trees also perform well, not far behind random forests, so they could also be an option.\n",
    "It is better to use a sampling method on data with these characteristics."
   ]
  }
 ],
 "metadata": {
  "ExecuteTimeLog": [
   {
    "duration": 160,
    "start_time": "2024-09-06T05:24:03.062Z"
   },
   {
    "duration": 2652,
    "start_time": "2024-09-06T05:24:08.227Z"
   },
   {
    "duration": 22,
    "start_time": "2024-09-06T05:24:11.631Z"
   },
   {
    "duration": 3,
    "start_time": "2024-09-06T05:44:44.180Z"
   },
   {
    "duration": 16,
    "start_time": "2024-09-06T05:44:46.207Z"
   },
   {
    "duration": 44,
    "start_time": "2024-09-06T05:44:48.512Z"
   },
   {
    "duration": 42,
    "start_time": "2024-09-06T05:46:38.280Z"
   },
   {
    "duration": 43,
    "start_time": "2024-09-06T05:46:49.721Z"
   },
   {
    "duration": 9,
    "start_time": "2024-09-06T05:58:17.481Z"
   },
   {
    "duration": 8,
    "start_time": "2024-09-06T05:58:55.420Z"
   },
   {
    "duration": 158,
    "start_time": "2024-09-07T05:01:53.004Z"
   },
   {
    "duration": 2623,
    "start_time": "2024-09-07T05:01:57.941Z"
   },
   {
    "duration": 29,
    "start_time": "2024-09-07T05:02:00.566Z"
   },
   {
    "duration": 97,
    "start_time": "2024-09-07T05:02:00.596Z"
   },
   {
    "duration": 85,
    "start_time": "2024-09-07T05:02:01.456Z"
   },
   {
    "duration": 5,
    "start_time": "2024-09-07T05:02:08.717Z"
   },
   {
    "duration": 6,
    "start_time": "2024-09-07T05:37:17.162Z"
   },
   {
    "duration": 8,
    "start_time": "2024-09-07T05:37:30.511Z"
   },
   {
    "duration": 33,
    "start_time": "2024-09-07T05:37:58.384Z"
   },
   {
    "duration": 3,
    "start_time": "2024-09-07T05:38:07.013Z"
   },
   {
    "duration": 15,
    "start_time": "2024-09-07T05:38:07.861Z"
   },
   {
    "duration": 34,
    "start_time": "2024-09-07T05:38:08.315Z"
   },
   {
    "duration": 6,
    "start_time": "2024-09-07T05:38:10.494Z"
   },
   {
    "duration": 2555,
    "start_time": "2024-09-11T06:19:50.900Z"
   },
   {
    "duration": 28,
    "start_time": "2024-09-11T06:19:53.457Z"
   },
   {
    "duration": 38,
    "start_time": "2024-09-11T06:19:53.486Z"
   },
   {
    "duration": 9,
    "start_time": "2024-09-11T06:19:53.526Z"
   },
   {
    "duration": 10,
    "start_time": "2024-09-11T06:19:55.250Z"
   },
   {
    "duration": 8,
    "start_time": "2024-09-11T06:19:56.960Z"
   },
   {
    "duration": 230,
    "start_time": "2024-09-11T06:19:57.533Z"
   },
   {
    "duration": 5,
    "start_time": "2024-09-11T06:20:04.961Z"
   },
   {
    "duration": 7,
    "start_time": "2024-09-11T06:20:06.528Z"
   },
   {
    "duration": 15,
    "start_time": "2024-09-11T06:20:07.920Z"
   },
   {
    "duration": 3,
    "start_time": "2024-09-11T06:20:40.949Z"
   },
   {
    "duration": 8,
    "start_time": "2024-09-11T06:20:46.216Z"
   },
   {
    "duration": 33,
    "start_time": "2024-09-11T06:20:47.817Z"
   },
   {
    "duration": 121,
    "start_time": "2024-09-11T06:22:36.519Z"
   },
   {
    "duration": 12,
    "start_time": "2024-09-11T06:22:41.592Z"
   },
   {
    "duration": 7,
    "start_time": "2024-09-11T06:27:59.331Z"
   },
   {
    "duration": 9,
    "start_time": "2024-09-11T06:36:29.230Z"
   },
   {
    "duration": 6,
    "start_time": "2024-09-11T06:37:03.206Z"
   },
   {
    "duration": 21,
    "start_time": "2024-09-11T06:40:17.787Z"
   },
   {
    "duration": 3,
    "start_time": "2024-09-11T06:40:52.991Z"
   },
   {
    "duration": 8,
    "start_time": "2024-09-11T06:40:58.425Z"
   },
   {
    "duration": 18,
    "start_time": "2024-09-11T06:46:58.731Z"
   },
   {
    "duration": 8,
    "start_time": "2024-09-11T06:47:54.150Z"
   },
   {
    "duration": 14,
    "start_time": "2024-09-11T07:14:10.033Z"
   },
   {
    "duration": 2894,
    "start_time": "2024-09-11T18:59:12.399Z"
   },
   {
    "duration": 30,
    "start_time": "2024-09-11T18:59:15.299Z"
   },
   {
    "duration": 98,
    "start_time": "2024-09-11T18:59:15.330Z"
   },
   {
    "duration": 6,
    "start_time": "2024-09-11T18:59:15.430Z"
   },
   {
    "duration": 9,
    "start_time": "2024-09-11T18:59:15.438Z"
   },
   {
    "duration": 9,
    "start_time": "2024-09-11T18:59:16.759Z"
   },
   {
    "duration": 7,
    "start_time": "2024-09-11T18:59:17.090Z"
   },
   {
    "duration": 7,
    "start_time": "2024-09-11T18:59:18.220Z"
   },
   {
    "duration": 11,
    "start_time": "2024-09-11T18:59:19.194Z"
   },
   {
    "duration": 42,
    "start_time": "2024-09-11T18:59:20.269Z"
   },
   {
    "duration": 249,
    "start_time": "2024-09-11T18:59:25.207Z"
   },
   {
    "duration": 50,
    "start_time": "2024-09-11T19:00:04.832Z"
   },
   {
    "duration": 76,
    "start_time": "2024-09-11T19:00:37.737Z"
   },
   {
    "duration": 56,
    "start_time": "2024-09-11T19:04:13.534Z"
   },
   {
    "duration": 44,
    "start_time": "2024-09-11T19:05:48.154Z"
   },
   {
    "duration": 7,
    "start_time": "2024-09-11T19:06:20.269Z"
   },
   {
    "duration": 6,
    "start_time": "2024-09-11T19:06:22.729Z"
   },
   {
    "duration": 6,
    "start_time": "2024-09-11T19:06:24.680Z"
   },
   {
    "duration": 7,
    "start_time": "2024-09-11T19:07:07.312Z"
   },
   {
    "duration": 6,
    "start_time": "2024-09-11T19:07:29.304Z"
   },
   {
    "duration": 6,
    "start_time": "2024-09-11T19:08:03.309Z"
   },
   {
    "duration": 47,
    "start_time": "2024-09-11T19:08:44.999Z"
   },
   {
    "duration": 31,
    "start_time": "2024-09-11T19:10:58.478Z"
   },
   {
    "duration": 48,
    "start_time": "2024-09-11T19:11:33.305Z"
   },
   {
    "duration": 36,
    "start_time": "2024-09-11T19:12:44.557Z"
   },
   {
    "duration": 29,
    "start_time": "2024-09-11T19:14:31.528Z"
   },
   {
    "duration": 28,
    "start_time": "2024-09-11T19:14:36.150Z"
   },
   {
    "duration": 13,
    "start_time": "2024-09-11T19:15:21.963Z"
   },
   {
    "duration": 13,
    "start_time": "2024-09-11T19:56:46.087Z"
   },
   {
    "duration": 15,
    "start_time": "2024-09-11T19:59:49.779Z"
   },
   {
    "duration": 13,
    "start_time": "2024-09-11T20:17:29.485Z"
   },
   {
    "duration": 12,
    "start_time": "2024-09-11T20:19:19.958Z"
   },
   {
    "duration": 7,
    "start_time": "2024-09-11T20:21:02.676Z"
   },
   {
    "duration": 4,
    "start_time": "2024-09-11T20:22:53.012Z"
   },
   {
    "duration": 16,
    "start_time": "2024-09-11T20:22:53.517Z"
   },
   {
    "duration": 37,
    "start_time": "2024-09-11T20:22:53.716Z"
   },
   {
    "duration": 8,
    "start_time": "2024-09-11T20:22:54.136Z"
   },
   {
    "duration": 9,
    "start_time": "2024-09-11T20:22:55.948Z"
   },
   {
    "duration": 8,
    "start_time": "2024-09-11T20:22:57.614Z"
   },
   {
    "duration": 4,
    "start_time": "2024-09-11T20:22:58.631Z"
   },
   {
    "duration": 8,
    "start_time": "2024-09-11T20:23:02.474Z"
   },
   {
    "duration": 4,
    "start_time": "2024-09-11T20:23:40.372Z"
   },
   {
    "duration": 14,
    "start_time": "2024-09-11T20:23:41.496Z"
   },
   {
    "duration": 35,
    "start_time": "2024-09-11T20:23:41.769Z"
   },
   {
    "duration": 7,
    "start_time": "2024-09-11T20:23:42.064Z"
   },
   {
    "duration": 9,
    "start_time": "2024-09-11T20:23:43.804Z"
   },
   {
    "duration": 8,
    "start_time": "2024-09-11T20:23:50.952Z"
   },
   {
    "duration": 5,
    "start_time": "2024-09-11T20:23:50.992Z"
   },
   {
    "duration": 6,
    "start_time": "2024-09-11T20:23:55.750Z"
   },
   {
    "duration": 5,
    "start_time": "2024-09-11T20:23:55.758Z"
   },
   {
    "duration": 13,
    "start_time": "2024-09-11T20:24:21.360Z"
   },
   {
    "duration": 13,
    "start_time": "2024-09-11T20:24:37.916Z"
   },
   {
    "duration": 12,
    "start_time": "2024-09-11T20:24:53.290Z"
   },
   {
    "duration": 18,
    "start_time": "2024-09-11T20:24:57.536Z"
   },
   {
    "duration": 3,
    "start_time": "2024-09-11T20:25:56.793Z"
   },
   {
    "duration": 14,
    "start_time": "2024-09-11T20:25:58.119Z"
   },
   {
    "duration": 34,
    "start_time": "2024-09-11T20:25:58.136Z"
   },
   {
    "duration": 6,
    "start_time": "2024-09-11T20:25:58.172Z"
   },
   {
    "duration": 8,
    "start_time": "2024-09-11T20:25:58.180Z"
   },
   {
    "duration": 7,
    "start_time": "2024-09-11T20:25:58.267Z"
   },
   {
    "duration": 4,
    "start_time": "2024-09-11T20:25:59.878Z"
   },
   {
    "duration": 6,
    "start_time": "2024-09-11T20:25:59.885Z"
   },
   {
    "duration": 8,
    "start_time": "2024-09-11T20:25:59.892Z"
   },
   {
    "duration": 72,
    "start_time": "2024-09-11T20:25:59.902Z"
   },
   {
    "duration": 16,
    "start_time": "2024-09-11T20:25:59.976Z"
   },
   {
    "duration": 85,
    "start_time": "2024-09-11T20:25:59.993Z"
   },
   {
    "duration": 7,
    "start_time": "2024-09-11T20:26:00.215Z"
   },
   {
    "duration": 22,
    "start_time": "2024-09-11T20:28:06.576Z"
   },
   {
    "duration": 7,
    "start_time": "2024-09-11T20:29:12.854Z"
   },
   {
    "duration": 489,
    "start_time": "2024-09-11T20:41:28.834Z"
   },
   {
    "duration": 1658,
    "start_time": "2024-09-11T20:41:46.005Z"
   },
   {
    "duration": 3694,
    "start_time": "2024-09-11T20:41:57.370Z"
   },
   {
    "duration": 501,
    "start_time": "2024-09-11T20:42:15.895Z"
   },
   {
    "duration": 1618,
    "start_time": "2024-09-11T20:42:24.220Z"
   },
   {
    "duration": 175,
    "start_time": "2024-09-11T20:55:44.512Z"
   },
   {
    "duration": 163,
    "start_time": "2024-09-11T20:56:29.453Z"
   },
   {
    "duration": 646,
    "start_time": "2024-09-11T20:57:37.041Z"
   },
   {
    "duration": 1438,
    "start_time": "2024-09-11T20:57:46.809Z"
   },
   {
    "duration": 51,
    "start_time": "2024-09-11T20:58:54.190Z"
   },
   {
    "duration": 3,
    "start_time": "2024-09-11T21:09:49.988Z"
   },
   {
    "duration": 16,
    "start_time": "2024-09-11T21:09:50.538Z"
   },
   {
    "duration": 38,
    "start_time": "2024-09-11T21:09:50.556Z"
   },
   {
    "duration": 7,
    "start_time": "2024-09-11T21:09:50.596Z"
   },
   {
    "duration": 11,
    "start_time": "2024-09-11T21:09:51.020Z"
   },
   {
    "duration": 7,
    "start_time": "2024-09-11T21:09:51.035Z"
   },
   {
    "duration": 4,
    "start_time": "2024-09-11T21:09:51.044Z"
   },
   {
    "duration": 6,
    "start_time": "2024-09-11T21:09:51.050Z"
   },
   {
    "duration": 9,
    "start_time": "2024-09-11T21:09:51.058Z"
   },
   {
    "duration": 101,
    "start_time": "2024-09-11T21:09:51.069Z"
   },
   {
    "duration": 17,
    "start_time": "2024-09-11T21:09:51.172Z"
   },
   {
    "duration": 42,
    "start_time": "2024-09-11T21:09:51.540Z"
   },
   {
    "duration": 25,
    "start_time": "2024-09-11T21:09:51.585Z"
   },
   {
    "duration": 0,
    "start_time": "2024-09-11T21:09:51.612Z"
   },
   {
    "duration": 1625,
    "start_time": "2024-09-11T21:09:52.253Z"
   },
   {
    "duration": 182,
    "start_time": "2024-09-11T21:09:53.880Z"
   },
   {
    "duration": 0,
    "start_time": "2024-09-11T21:09:54.064Z"
   },
   {
    "duration": 0,
    "start_time": "2024-09-11T21:09:54.070Z"
   },
   {
    "duration": 0,
    "start_time": "2024-09-11T21:09:54.072Z"
   },
   {
    "duration": 177,
    "start_time": "2024-09-11T21:10:20.452Z"
   },
   {
    "duration": 164,
    "start_time": "2024-09-11T21:10:30.746Z"
   },
   {
    "duration": 1416,
    "start_time": "2024-09-11T21:10:48.289Z"
   },
   {
    "duration": 54,
    "start_time": "2024-09-11T21:10:50.882Z"
   },
   {
    "duration": 11,
    "start_time": "2024-09-11T21:10:52.315Z"
   },
   {
    "duration": 15,
    "start_time": "2024-09-11T21:13:35.801Z"
   },
   {
    "duration": 8,
    "start_time": "2024-09-11T21:14:12.848Z"
   },
   {
    "duration": 169,
    "start_time": "2024-09-11T21:14:46.633Z"
   },
   {
    "duration": 168,
    "start_time": "2024-09-11T21:14:49.426Z"
   },
   {
    "duration": 165,
    "start_time": "2024-09-11T21:14:53.853Z"
   },
   {
    "duration": 165,
    "start_time": "2024-09-11T21:14:57.752Z"
   },
   {
    "duration": 51,
    "start_time": "2024-09-11T21:15:01.696Z"
   },
   {
    "duration": 143,
    "start_time": "2024-09-11T21:15:06.675Z"
   },
   {
    "duration": 163,
    "start_time": "2024-09-11T21:15:17.948Z"
   },
   {
    "duration": 161,
    "start_time": "2024-09-11T21:15:23.715Z"
   },
   {
    "duration": 96,
    "start_time": "2024-09-11T21:15:49.056Z"
   },
   {
    "duration": 103,
    "start_time": "2024-09-11T21:15:56.084Z"
   },
   {
    "duration": 115,
    "start_time": "2024-09-11T21:15:59.402Z"
   },
   {
    "duration": 114,
    "start_time": "2024-09-11T21:16:03.737Z"
   },
   {
    "duration": 113,
    "start_time": "2024-09-11T21:16:09.242Z"
   },
   {
    "duration": 138,
    "start_time": "2024-09-11T21:16:16.240Z"
   },
   {
    "duration": 153,
    "start_time": "2024-09-11T21:16:27.758Z"
   },
   {
    "duration": 219,
    "start_time": "2024-09-11T21:16:33.872Z"
   },
   {
    "duration": 265,
    "start_time": "2024-09-11T21:16:43.213Z"
   },
   {
    "duration": 119,
    "start_time": "2024-09-11T21:16:48.065Z"
   },
   {
    "duration": 166,
    "start_time": "2024-09-11T21:17:05.438Z"
   },
   {
    "duration": 140,
    "start_time": "2024-09-11T21:17:13.123Z"
   },
   {
    "duration": 132,
    "start_time": "2024-09-11T21:17:17.461Z"
   },
   {
    "duration": 124,
    "start_time": "2024-09-11T21:17:21.377Z"
   },
   {
    "duration": 132,
    "start_time": "2024-09-11T21:17:25.385Z"
   },
   {
    "duration": 139,
    "start_time": "2024-09-11T21:17:29.431Z"
   },
   {
    "duration": 145,
    "start_time": "2024-09-11T21:17:33.276Z"
   },
   {
    "duration": 140,
    "start_time": "2024-09-11T21:17:39.354Z"
   },
   {
    "duration": 146,
    "start_time": "2024-09-11T21:17:43.549Z"
   },
   {
    "duration": 149,
    "start_time": "2024-09-11T21:17:47.387Z"
   },
   {
    "duration": 144,
    "start_time": "2024-09-11T21:17:54.713Z"
   },
   {
    "duration": 157,
    "start_time": "2024-09-11T21:18:07.097Z"
   },
   {
    "duration": 180,
    "start_time": "2024-09-11T21:18:10.993Z"
   },
   {
    "duration": 150,
    "start_time": "2024-09-11T21:18:14.886Z"
   },
   {
    "duration": 14,
    "start_time": "2024-09-11T21:18:22.874Z"
   },
   {
    "duration": 167,
    "start_time": "2024-09-11T21:18:59.231Z"
   },
   {
    "duration": 165,
    "start_time": "2024-09-11T21:19:04.743Z"
   },
   {
    "duration": 160,
    "start_time": "2024-09-11T21:19:07.781Z"
   },
   {
    "duration": 150,
    "start_time": "2024-09-11T21:19:14.119Z"
   },
   {
    "duration": 161,
    "start_time": "2024-09-11T21:19:19.671Z"
   },
   {
    "duration": 154,
    "start_time": "2024-09-11T21:19:26.279Z"
   },
   {
    "duration": 164,
    "start_time": "2024-09-11T21:19:31.919Z"
   },
   {
    "duration": 163,
    "start_time": "2024-09-11T21:19:35.265Z"
   },
   {
    "duration": 165,
    "start_time": "2024-09-11T21:19:42.999Z"
   },
   {
    "duration": 165,
    "start_time": "2024-09-11T21:19:47.832Z"
   },
   {
    "duration": 163,
    "start_time": "2024-09-11T21:19:52.093Z"
   },
   {
    "duration": 165,
    "start_time": "2024-09-11T21:19:55.257Z"
   },
   {
    "duration": 172,
    "start_time": "2024-09-11T21:19:58.266Z"
   },
   {
    "duration": 170,
    "start_time": "2024-09-11T21:20:07.083Z"
   },
   {
    "duration": 171,
    "start_time": "2024-09-11T21:20:10.513Z"
   },
   {
    "duration": 166,
    "start_time": "2024-09-11T21:20:13.352Z"
   },
   {
    "duration": 170,
    "start_time": "2024-09-11T21:20:17.095Z"
   },
   {
    "duration": 168,
    "start_time": "2024-09-11T21:20:22.137Z"
   },
   {
    "duration": 170,
    "start_time": "2024-09-11T21:20:25.771Z"
   },
   {
    "duration": 165,
    "start_time": "2024-09-11T21:20:31.185Z"
   },
   {
    "duration": 167,
    "start_time": "2024-09-11T21:20:36.029Z"
   },
   {
    "duration": 165,
    "start_time": "2024-09-11T21:20:39.354Z"
   },
   {
    "duration": 164,
    "start_time": "2024-09-11T21:20:42.599Z"
   },
   {
    "duration": 166,
    "start_time": "2024-09-11T21:20:46.367Z"
   },
   {
    "duration": 153,
    "start_time": "2024-09-11T21:20:52.572Z"
   },
   {
    "duration": 163,
    "start_time": "2024-09-11T21:20:56.427Z"
   },
   {
    "duration": 166,
    "start_time": "2024-09-11T21:21:00.118Z"
   },
   {
    "duration": 176,
    "start_time": "2024-09-11T21:21:04.304Z"
   },
   {
    "duration": 181,
    "start_time": "2024-09-11T21:21:07.259Z"
   },
   {
    "duration": 188,
    "start_time": "2024-09-11T21:21:11.477Z"
   },
   {
    "duration": 196,
    "start_time": "2024-09-11T21:21:15.959Z"
   },
   {
    "duration": 202,
    "start_time": "2024-09-11T21:21:18.946Z"
   },
   {
    "duration": 210,
    "start_time": "2024-09-11T21:21:21.861Z"
   },
   {
    "duration": 226,
    "start_time": "2024-09-11T21:21:26.438Z"
   },
   {
    "duration": 225,
    "start_time": "2024-09-11T21:21:29.775Z"
   },
   {
    "duration": 1496,
    "start_time": "2024-09-11T21:21:51.557Z"
   },
   {
    "duration": 74,
    "start_time": "2024-09-11T21:22:06.239Z"
   },
   {
    "duration": 9,
    "start_time": "2024-09-11T21:22:11.865Z"
   },
   {
    "duration": 150,
    "start_time": "2024-09-11T21:22:40.700Z"
   },
   {
    "duration": 15,
    "start_time": "2024-09-11T21:22:45.655Z"
   },
   {
    "duration": 14,
    "start_time": "2024-09-11T21:28:16.877Z"
   },
   {
    "duration": 15,
    "start_time": "2024-09-11T21:28:24.129Z"
   },
   {
    "duration": 5,
    "start_time": "2024-09-11T21:49:11.944Z"
   },
   {
    "duration": 307,
    "start_time": "2024-09-11T21:49:26.374Z"
   },
   {
    "duration": 19,
    "start_time": "2024-09-11T21:53:12.445Z"
   },
   {
    "duration": 85,
    "start_time": "2024-09-11T21:54:26.391Z"
   },
   {
    "duration": 10,
    "start_time": "2024-09-11T21:54:36.003Z"
   },
   {
    "duration": 73,
    "start_time": "2024-09-11T21:54:56.085Z"
   },
   {
    "duration": 12,
    "start_time": "2024-09-11T21:54:56.715Z"
   },
   {
    "duration": 73,
    "start_time": "2024-09-11T21:55:06.558Z"
   },
   {
    "duration": 10,
    "start_time": "2024-09-11T21:55:06.914Z"
   },
   {
    "duration": 73,
    "start_time": "2024-09-11T21:55:33.191Z"
   },
   {
    "duration": 10,
    "start_time": "2024-09-11T21:55:33.570Z"
   },
   {
    "duration": 73,
    "start_time": "2024-09-11T21:55:41.587Z"
   },
   {
    "duration": 9,
    "start_time": "2024-09-11T21:55:42.041Z"
   },
   {
    "duration": 14,
    "start_time": "2024-09-11T21:57:15.477Z"
   },
   {
    "duration": 72,
    "start_time": "2024-09-11T21:57:44.222Z"
   },
   {
    "duration": 9,
    "start_time": "2024-09-11T21:57:45.239Z"
   },
   {
    "duration": 6,
    "start_time": "2024-09-11T21:59:30.409Z"
   },
   {
    "duration": 75,
    "start_time": "2024-09-11T22:00:27.280Z"
   },
   {
    "duration": 10,
    "start_time": "2024-09-11T22:00:28.382Z"
   },
   {
    "duration": 9,
    "start_time": "2024-09-11T22:00:47.703Z"
   },
   {
    "duration": 7,
    "start_time": "2024-09-11T22:00:48.856Z"
   },
   {
    "duration": 300,
    "start_time": "2024-09-11T22:01:03.572Z"
   },
   {
    "duration": 73,
    "start_time": "2024-09-11T22:01:04.099Z"
   },
   {
    "duration": 10,
    "start_time": "2024-09-11T22:01:04.719Z"
   },
   {
    "duration": 7,
    "start_time": "2024-09-11T22:01:06.073Z"
   },
   {
    "duration": 73,
    "start_time": "2024-09-11T22:01:33.317Z"
   },
   {
    "duration": 10,
    "start_time": "2024-09-11T22:01:33.927Z"
   },
   {
    "duration": 7,
    "start_time": "2024-09-11T22:01:37.995Z"
   },
   {
    "duration": 75,
    "start_time": "2024-09-11T22:02:11.770Z"
   },
   {
    "duration": 11,
    "start_time": "2024-09-11T22:02:12.346Z"
   },
   {
    "duration": 6,
    "start_time": "2024-09-11T22:02:14.148Z"
   },
   {
    "duration": 73,
    "start_time": "2024-09-11T22:02:29.578Z"
   },
   {
    "duration": 11,
    "start_time": "2024-09-11T22:02:30.132Z"
   },
   {
    "duration": 7,
    "start_time": "2024-09-11T22:02:31.124Z"
   },
   {
    "duration": 73,
    "start_time": "2024-09-11T22:02:44.537Z"
   },
   {
    "duration": 9,
    "start_time": "2024-09-11T22:02:45.007Z"
   },
   {
    "duration": 8,
    "start_time": "2024-09-11T22:02:47.086Z"
   },
   {
    "duration": 74,
    "start_time": "2024-09-11T22:03:02.279Z"
   },
   {
    "duration": 11,
    "start_time": "2024-09-11T22:03:03.123Z"
   },
   {
    "duration": 7,
    "start_time": "2024-09-11T22:03:04.922Z"
   },
   {
    "duration": 1127,
    "start_time": "2024-09-11T22:05:39.147Z"
   },
   {
    "duration": 300,
    "start_time": "2024-09-11T22:05:56.019Z"
   },
   {
    "duration": 54,
    "start_time": "2024-09-11T22:15:03.721Z"
   },
   {
    "duration": 24,
    "start_time": "2024-09-11T22:15:52.716Z"
   },
   {
    "duration": 25,
    "start_time": "2024-09-11T22:16:35.275Z"
   },
   {
    "duration": 1612,
    "start_time": "2024-09-11T22:18:02.805Z"
   },
   {
    "duration": 147,
    "start_time": "2024-09-11T22:18:19.659Z"
   },
   {
    "duration": 149,
    "start_time": "2024-09-11T22:18:35.928Z"
   },
   {
    "duration": 146,
    "start_time": "2024-09-11T22:19:07.377Z"
   },
   {
    "duration": 1626,
    "start_time": "2024-09-11T22:19:29.730Z"
   },
   {
    "duration": 161,
    "start_time": "2024-09-11T22:19:41.160Z"
   },
   {
    "duration": 10,
    "start_time": "2024-09-11T22:21:40.355Z"
   },
   {
    "duration": 75,
    "start_time": "2024-09-11T22:22:05.960Z"
   },
   {
    "duration": 10,
    "start_time": "2024-09-11T22:22:06.502Z"
   },
   {
    "duration": 6,
    "start_time": "2024-09-11T22:22:08.233Z"
   },
   {
    "duration": 76,
    "start_time": "2024-09-11T22:22:34.320Z"
   },
   {
    "duration": 11,
    "start_time": "2024-09-11T22:22:34.786Z"
   },
   {
    "duration": 7,
    "start_time": "2024-09-11T22:22:36.708Z"
   },
   {
    "duration": 300,
    "start_time": "2024-09-11T22:23:02.701Z"
   },
   {
    "duration": 75,
    "start_time": "2024-09-11T22:23:05.350Z"
   },
   {
    "duration": 377,
    "start_time": "2024-09-11T22:23:25.222Z"
   },
   {
    "duration": 88,
    "start_time": "2024-09-11T22:23:27.714Z"
   },
   {
    "duration": 78,
    "start_time": "2024-09-11T22:23:31.322Z"
   },
   {
    "duration": 10,
    "start_time": "2024-09-11T22:23:32.445Z"
   },
   {
    "duration": 7,
    "start_time": "2024-09-11T22:23:36.645Z"
   },
   {
    "duration": 2343,
    "start_time": "2024-09-11T22:28:48.549Z"
   },
   {
    "duration": 1636,
    "start_time": "2024-09-11T22:29:10.646Z"
   },
   {
    "duration": 150,
    "start_time": "2024-09-11T22:30:26.903Z"
   },
   {
    "duration": 209,
    "start_time": "2024-09-11T22:35:25.210Z"
   },
   {
    "duration": 3263,
    "start_time": "2024-09-11T22:35:42.372Z"
   },
   {
    "duration": 3248,
    "start_time": "2024-09-11T22:36:11.274Z"
   },
   {
    "duration": 220,
    "start_time": "2024-09-11T22:36:20.013Z"
   },
   {
    "duration": 14,
    "start_time": "2024-09-11T22:38:25.267Z"
   },
   {
    "duration": 314,
    "start_time": "2024-09-11T22:39:44.260Z"
   },
   {
    "duration": 3,
    "start_time": "2024-09-11T22:41:07.202Z"
   },
   {
    "duration": 15,
    "start_time": "2024-09-11T22:41:07.744Z"
   },
   {
    "duration": 35,
    "start_time": "2024-09-11T22:41:07.783Z"
   },
   {
    "duration": 6,
    "start_time": "2024-09-11T22:41:07.819Z"
   },
   {
    "duration": 9,
    "start_time": "2024-09-11T22:41:07.940Z"
   },
   {
    "duration": 8,
    "start_time": "2024-09-11T22:41:08.088Z"
   },
   {
    "duration": 4,
    "start_time": "2024-09-11T22:41:08.115Z"
   },
   {
    "duration": 7,
    "start_time": "2024-09-11T22:41:08.232Z"
   },
   {
    "duration": 8,
    "start_time": "2024-09-11T22:41:08.241Z"
   },
   {
    "duration": 12,
    "start_time": "2024-09-11T22:41:08.254Z"
   },
   {
    "duration": 13,
    "start_time": "2024-09-11T22:41:08.371Z"
   },
   {
    "duration": 317,
    "start_time": "2024-09-11T22:41:08.386Z"
   },
   {
    "duration": 76,
    "start_time": "2024-09-11T22:41:08.706Z"
   },
   {
    "duration": 10,
    "start_time": "2024-09-11T22:41:08.840Z"
   },
   {
    "duration": 8,
    "start_time": "2024-09-11T22:41:09.129Z"
   },
   {
    "duration": 36,
    "start_time": "2024-09-11T22:41:09.547Z"
   },
   {
    "duration": 10,
    "start_time": "2024-09-11T22:41:09.734Z"
   },
   {
    "duration": 3288,
    "start_time": "2024-09-11T22:41:10.129Z"
   },
   {
    "duration": 222,
    "start_time": "2024-09-11T22:41:13.419Z"
   },
   {
    "duration": 14,
    "start_time": "2024-09-11T22:41:13.643Z"
   },
   {
    "duration": 15,
    "start_time": "2024-09-11T22:41:13.658Z"
   },
   {
    "duration": 14,
    "start_time": "2024-09-11T22:41:34.822Z"
   },
   {
    "duration": 2281,
    "start_time": "2024-09-11T22:42:50.538Z"
   },
   {
    "duration": 2285,
    "start_time": "2024-09-11T22:42:54.097Z"
   },
   {
    "duration": 196,
    "start_time": "2024-09-11T22:43:20.088Z"
   },
   {
    "duration": 219,
    "start_time": "2024-09-11T22:43:33.170Z"
   },
   {
    "duration": 1138,
    "start_time": "2024-09-11T22:44:51.499Z"
   },
   {
    "duration": 196,
    "start_time": "2024-09-11T22:45:31.621Z"
   },
   {
    "duration": 196,
    "start_time": "2024-09-11T22:45:39.861Z"
   },
   {
    "duration": 197,
    "start_time": "2024-09-11T22:45:45.807Z"
   },
   {
    "duration": 195,
    "start_time": "2024-09-11T22:45:52.894Z"
   },
   {
    "duration": 199,
    "start_time": "2024-09-11T22:46:00.889Z"
   },
   {
    "duration": 195,
    "start_time": "2024-09-11T22:46:08.585Z"
   },
   {
    "duration": 197,
    "start_time": "2024-09-11T22:46:17.408Z"
   },
   {
    "duration": 197,
    "start_time": "2024-09-11T22:46:29.185Z"
   },
   {
    "duration": 197,
    "start_time": "2024-09-11T22:46:39.858Z"
   },
   {
    "duration": 197,
    "start_time": "2024-09-11T22:47:05.300Z"
   },
   {
    "duration": 15,
    "start_time": "2024-09-11T22:47:23.066Z"
   },
   {
    "duration": 207,
    "start_time": "2024-09-11T22:47:37.450Z"
   },
   {
    "duration": 14,
    "start_time": "2024-09-11T22:47:42.086Z"
   },
   {
    "duration": 7,
    "start_time": "2024-09-11T22:48:39.845Z"
   },
   {
    "duration": 16,
    "start_time": "2024-09-11T22:57:55.224Z"
   },
   {
    "duration": 6,
    "start_time": "2024-09-11T22:58:05.224Z"
   },
   {
    "duration": 5,
    "start_time": "2024-09-11T22:58:06.729Z"
   },
   {
    "duration": 7,
    "start_time": "2024-09-11T22:58:06.850Z"
   },
   {
    "duration": 876,
    "start_time": "2024-09-11T22:58:33.795Z"
   },
   {
    "duration": 5,
    "start_time": "2024-09-11T22:58:44.238Z"
   },
   {
    "duration": 9,
    "start_time": "2024-09-11T22:58:47.694Z"
   },
   {
    "duration": 754,
    "start_time": "2024-09-11T22:58:59.293Z"
   },
   {
    "duration": 3,
    "start_time": "2024-09-11T23:12:57.904Z"
   },
   {
    "duration": 15,
    "start_time": "2024-09-11T23:12:58.443Z"
   },
   {
    "duration": 34,
    "start_time": "2024-09-11T23:12:58.485Z"
   },
   {
    "duration": 5,
    "start_time": "2024-09-11T23:12:58.522Z"
   },
   {
    "duration": 9,
    "start_time": "2024-09-11T23:12:58.646Z"
   },
   {
    "duration": 8,
    "start_time": "2024-09-11T23:12:58.772Z"
   },
   {
    "duration": 4,
    "start_time": "2024-09-11T23:12:58.801Z"
   },
   {
    "duration": 6,
    "start_time": "2024-09-11T23:12:58.833Z"
   },
   {
    "duration": 8,
    "start_time": "2024-09-11T23:12:58.880Z"
   },
   {
    "duration": 14,
    "start_time": "2024-09-11T23:12:58.940Z"
   },
   {
    "duration": 12,
    "start_time": "2024-09-11T23:12:59.475Z"
   },
   {
    "duration": 756,
    "start_time": "2024-09-11T23:13:00.470Z"
   },
   {
    "duration": 75,
    "start_time": "2024-09-11T23:13:01.229Z"
   },
   {
    "duration": 10,
    "start_time": "2024-09-11T23:13:01.305Z"
   },
   {
    "duration": 7,
    "start_time": "2024-09-11T23:13:01.601Z"
   },
   {
    "duration": 75,
    "start_time": "2024-09-11T23:13:02.095Z"
   },
   {
    "duration": 9,
    "start_time": "2024-09-11T23:13:02.270Z"
   },
   {
    "duration": 2079,
    "start_time": "2024-09-11T23:13:02.812Z"
   },
   {
    "duration": 190,
    "start_time": "2024-09-11T23:13:04.893Z"
   },
   {
    "duration": 15,
    "start_time": "2024-09-11T23:13:05.085Z"
   },
   {
    "duration": 3,
    "start_time": "2024-09-11T23:14:20.579Z"
   },
   {
    "duration": 16,
    "start_time": "2024-09-11T23:14:21.126Z"
   },
   {
    "duration": 34,
    "start_time": "2024-09-11T23:14:21.153Z"
   },
   {
    "duration": 6,
    "start_time": "2024-09-11T23:14:21.190Z"
   },
   {
    "duration": 9,
    "start_time": "2024-09-11T23:14:21.323Z"
   },
   {
    "duration": 10,
    "start_time": "2024-09-11T23:14:21.447Z"
   },
   {
    "duration": 4,
    "start_time": "2024-09-11T23:14:21.476Z"
   },
   {
    "duration": 6,
    "start_time": "2024-09-11T23:14:21.513Z"
   },
   {
    "duration": 8,
    "start_time": "2024-09-11T23:14:21.553Z"
   },
   {
    "duration": 17,
    "start_time": "2024-09-11T23:14:21.618Z"
   },
   {
    "duration": 112,
    "start_time": "2024-09-11T23:14:21.680Z"
   },
   {
    "duration": 0,
    "start_time": "2024-09-11T23:14:21.794Z"
   },
   {
    "duration": 0,
    "start_time": "2024-09-11T23:14:21.795Z"
   },
   {
    "duration": 10,
    "start_time": "2024-09-11T23:14:21.803Z"
   },
   {
    "duration": 5,
    "start_time": "2024-09-11T23:14:21.851Z"
   },
   {
    "duration": 25,
    "start_time": "2024-09-11T23:14:21.918Z"
   },
   {
    "duration": 7,
    "start_time": "2024-09-11T23:14:22.825Z"
   },
   {
    "duration": 2064,
    "start_time": "2024-09-11T23:14:24.075Z"
   },
   {
    "duration": 183,
    "start_time": "2024-09-11T23:14:26.142Z"
   },
   {
    "duration": 17,
    "start_time": "2024-09-11T23:14:26.328Z"
   },
   {
    "duration": 3,
    "start_time": "2024-09-11T23:20:46.778Z"
   },
   {
    "duration": 14,
    "start_time": "2024-09-11T23:20:47.310Z"
   },
   {
    "duration": 35,
    "start_time": "2024-09-11T23:20:47.348Z"
   },
   {
    "duration": 6,
    "start_time": "2024-09-11T23:20:47.384Z"
   },
   {
    "duration": 10,
    "start_time": "2024-09-11T23:20:47.511Z"
   },
   {
    "duration": 8,
    "start_time": "2024-09-11T23:20:47.650Z"
   },
   {
    "duration": 4,
    "start_time": "2024-09-11T23:20:47.685Z"
   },
   {
    "duration": 6,
    "start_time": "2024-09-11T23:20:47.715Z"
   },
   {
    "duration": 8,
    "start_time": "2024-09-11T23:20:47.742Z"
   },
   {
    "duration": 15,
    "start_time": "2024-09-11T23:20:47.802Z"
   },
   {
    "duration": 88,
    "start_time": "2024-09-11T23:20:47.883Z"
   },
   {
    "duration": 838,
    "start_time": "2024-09-11T23:20:47.973Z"
   },
   {
    "duration": 76,
    "start_time": "2024-09-11T23:20:48.813Z"
   },
   {
    "duration": 9,
    "start_time": "2024-09-11T23:20:48.891Z"
   },
   {
    "duration": 6,
    "start_time": "2024-09-11T23:20:48.902Z"
   },
   {
    "duration": 62,
    "start_time": "2024-09-11T23:20:48.910Z"
   },
   {
    "duration": 8,
    "start_time": "2024-09-11T23:20:48.974Z"
   },
   {
    "duration": 2406,
    "start_time": "2024-09-11T23:20:48.984Z"
   },
   {
    "duration": 216,
    "start_time": "2024-09-11T23:20:51.392Z"
   },
   {
    "duration": 18,
    "start_time": "2024-09-11T23:20:51.612Z"
   },
   {
    "duration": 5,
    "start_time": "2024-09-11T23:20:51.634Z"
   },
   {
    "duration": 7,
    "start_time": "2024-09-11T23:20:51.641Z"
   },
   {
    "duration": 30,
    "start_time": "2024-09-11T23:20:51.649Z"
   },
   {
    "duration": 2518,
    "start_time": "2024-09-11T23:20:51.681Z"
   },
   {
    "duration": 213,
    "start_time": "2024-09-11T23:20:54.201Z"
   },
   {
    "duration": 0,
    "start_time": "2024-09-11T23:20:54.415Z"
   },
   {
    "duration": 214,
    "start_time": "2024-09-11T23:21:12.473Z"
   },
   {
    "duration": 216,
    "start_time": "2024-09-11T23:23:10.688Z"
   },
   {
    "duration": 3,
    "start_time": "2024-09-11T23:24:49.084Z"
   },
   {
    "duration": 14,
    "start_time": "2024-09-11T23:24:49.623Z"
   },
   {
    "duration": 34,
    "start_time": "2024-09-11T23:24:49.664Z"
   },
   {
    "duration": 5,
    "start_time": "2024-09-11T23:24:49.700Z"
   },
   {
    "duration": 9,
    "start_time": "2024-09-11T23:24:49.833Z"
   },
   {
    "duration": 7,
    "start_time": "2024-09-11T23:24:49.967Z"
   },
   {
    "duration": 4,
    "start_time": "2024-09-11T23:24:49.992Z"
   },
   {
    "duration": 7,
    "start_time": "2024-09-11T23:24:50.012Z"
   },
   {
    "duration": 8,
    "start_time": "2024-09-11T23:24:50.061Z"
   },
   {
    "duration": 20,
    "start_time": "2024-09-11T23:24:50.129Z"
   },
   {
    "duration": 85,
    "start_time": "2024-09-11T23:24:50.190Z"
   },
   {
    "duration": 841,
    "start_time": "2024-09-11T23:24:50.277Z"
   },
   {
    "duration": 82,
    "start_time": "2024-09-11T23:24:51.120Z"
   },
   {
    "duration": 12,
    "start_time": "2024-09-11T23:24:51.203Z"
   },
   {
    "duration": 6,
    "start_time": "2024-09-11T23:24:51.218Z"
   },
   {
    "duration": 56,
    "start_time": "2024-09-11T23:24:51.225Z"
   },
   {
    "duration": 8,
    "start_time": "2024-09-11T23:24:51.283Z"
   },
   {
    "duration": 2420,
    "start_time": "2024-09-11T23:24:51.293Z"
   },
   {
    "duration": 205,
    "start_time": "2024-09-11T23:24:53.715Z"
   },
   {
    "duration": 14,
    "start_time": "2024-09-11T23:24:53.922Z"
   },
   {
    "duration": 5,
    "start_time": "2024-09-11T23:24:53.939Z"
   },
   {
    "duration": 26,
    "start_time": "2024-09-11T23:24:53.946Z"
   },
   {
    "duration": 12,
    "start_time": "2024-09-11T23:24:53.974Z"
   },
   {
    "duration": 2665,
    "start_time": "2024-09-11T23:24:53.987Z"
   },
   {
    "duration": 238,
    "start_time": "2024-09-11T23:24:56.653Z"
   },
   {
    "duration": 6,
    "start_time": "2024-09-11T23:24:56.893Z"
   },
   {
    "duration": 7,
    "start_time": "2024-09-11T23:25:13.759Z"
   },
   {
    "duration": 6,
    "start_time": "2024-09-11T23:25:45.384Z"
   },
   {
    "duration": 6,
    "start_time": "2024-09-11T23:27:32.741Z"
   },
   {
    "duration": 5,
    "start_time": "2024-09-11T23:27:34.061Z"
   },
   {
    "duration": 8,
    "start_time": "2024-09-11T23:27:34.372Z"
   },
   {
    "duration": 14,
    "start_time": "2024-09-11T23:27:34.827Z"
   },
   {
    "duration": 2545,
    "start_time": "2024-09-11T23:27:35.560Z"
   },
   {
    "duration": 219,
    "start_time": "2024-09-11T23:27:38.107Z"
   },
   {
    "duration": 5,
    "start_time": "2024-09-11T23:27:50.448Z"
   },
   {
    "duration": 7,
    "start_time": "2024-09-11T23:27:50.838Z"
   },
   {
    "duration": 12,
    "start_time": "2024-09-11T23:27:51.287Z"
   },
   {
    "duration": 2353,
    "start_time": "2024-09-11T23:27:52.154Z"
   },
   {
    "duration": 213,
    "start_time": "2024-09-11T23:27:54.509Z"
   },
   {
    "duration": 5,
    "start_time": "2024-09-11T23:28:04.481Z"
   },
   {
    "duration": 8,
    "start_time": "2024-09-11T23:28:04.905Z"
   },
   {
    "duration": 13,
    "start_time": "2024-09-11T23:28:05.337Z"
   },
   {
    "duration": 2568,
    "start_time": "2024-09-11T23:28:05.733Z"
   },
   {
    "duration": 224,
    "start_time": "2024-09-11T23:28:08.303Z"
   },
   {
    "duration": 4,
    "start_time": "2024-09-11T23:29:29.573Z"
   },
   {
    "duration": 14,
    "start_time": "2024-09-11T23:29:30.083Z"
   },
   {
    "duration": 34,
    "start_time": "2024-09-11T23:29:30.189Z"
   },
   {
    "duration": 6,
    "start_time": "2024-09-11T23:29:30.225Z"
   },
   {
    "duration": 12,
    "start_time": "2024-09-11T23:29:30.282Z"
   },
   {
    "duration": 8,
    "start_time": "2024-09-11T23:29:30.431Z"
   },
   {
    "duration": 5,
    "start_time": "2024-09-11T23:29:30.457Z"
   },
   {
    "duration": 9,
    "start_time": "2024-09-11T23:29:30.483Z"
   },
   {
    "duration": 12,
    "start_time": "2024-09-11T23:29:30.530Z"
   },
   {
    "duration": 18,
    "start_time": "2024-09-11T23:29:30.599Z"
   },
   {
    "duration": 20,
    "start_time": "2024-09-11T23:29:30.676Z"
   },
   {
    "duration": 850,
    "start_time": "2024-09-11T23:29:30.812Z"
   },
   {
    "duration": 77,
    "start_time": "2024-09-11T23:29:31.664Z"
   },
   {
    "duration": 12,
    "start_time": "2024-09-11T23:29:31.743Z"
   },
   {
    "duration": 7,
    "start_time": "2024-09-11T23:29:31.770Z"
   },
   {
    "duration": 19,
    "start_time": "2024-09-11T23:29:31.780Z"
   },
   {
    "duration": 69,
    "start_time": "2024-09-11T23:29:31.801Z"
   },
   {
    "duration": 2414,
    "start_time": "2024-09-11T23:29:31.872Z"
   },
   {
    "duration": 203,
    "start_time": "2024-09-11T23:29:34.288Z"
   },
   {
    "duration": 13,
    "start_time": "2024-09-11T23:29:34.493Z"
   },
   {
    "duration": 5,
    "start_time": "2024-09-11T23:29:34.509Z"
   },
   {
    "duration": 6,
    "start_time": "2024-09-11T23:29:34.516Z"
   },
   {
    "duration": 12,
    "start_time": "2024-09-11T23:29:34.523Z"
   },
   {
    "duration": 2587,
    "start_time": "2024-09-11T23:29:34.537Z"
   },
   {
    "duration": 224,
    "start_time": "2024-09-11T23:29:37.127Z"
   },
   {
    "duration": 6,
    "start_time": "2024-09-11T23:29:37.353Z"
   },
   {
    "duration": 3,
    "start_time": "2024-09-11T23:30:47.433Z"
   },
   {
    "duration": 14,
    "start_time": "2024-09-11T23:30:47.972Z"
   },
   {
    "duration": 35,
    "start_time": "2024-09-11T23:30:48.001Z"
   },
   {
    "duration": 6,
    "start_time": "2024-09-11T23:30:48.038Z"
   },
   {
    "duration": 10,
    "start_time": "2024-09-11T23:30:48.177Z"
   },
   {
    "duration": 7,
    "start_time": "2024-09-11T23:30:48.297Z"
   },
   {
    "duration": 4,
    "start_time": "2024-09-11T23:30:48.344Z"
   },
   {
    "duration": 6,
    "start_time": "2024-09-11T23:30:48.382Z"
   },
   {
    "duration": 8,
    "start_time": "2024-09-11T23:30:48.403Z"
   },
   {
    "duration": 16,
    "start_time": "2024-09-11T23:30:48.469Z"
   },
   {
    "duration": 15,
    "start_time": "2024-09-11T23:30:48.572Z"
   },
   {
    "duration": 829,
    "start_time": "2024-09-11T23:30:48.627Z"
   },
   {
    "duration": 77,
    "start_time": "2024-09-11T23:30:49.458Z"
   },
   {
    "duration": 10,
    "start_time": "2024-09-11T23:30:49.537Z"
   },
   {
    "duration": 21,
    "start_time": "2024-09-11T23:30:49.550Z"
   },
   {
    "duration": 24,
    "start_time": "2024-09-11T23:30:49.573Z"
   },
   {
    "duration": 78,
    "start_time": "2024-09-11T23:30:49.598Z"
   },
   {
    "duration": 2391,
    "start_time": "2024-09-11T23:30:49.679Z"
   },
   {
    "duration": 203,
    "start_time": "2024-09-11T23:30:52.073Z"
   },
   {
    "duration": 14,
    "start_time": "2024-09-11T23:30:52.277Z"
   },
   {
    "duration": 5,
    "start_time": "2024-09-11T23:30:52.293Z"
   },
   {
    "duration": 7,
    "start_time": "2024-09-11T23:30:52.300Z"
   },
   {
    "duration": 11,
    "start_time": "2024-09-11T23:30:52.309Z"
   },
   {
    "duration": 2539,
    "start_time": "2024-09-11T23:30:52.322Z"
   },
   {
    "duration": 222,
    "start_time": "2024-09-11T23:30:54.862Z"
   },
   {
    "duration": 7,
    "start_time": "2024-09-11T23:30:55.086Z"
   },
   {
    "duration": 2419,
    "start_time": "2024-09-12T00:14:40.763Z"
   },
   {
    "duration": 2645,
    "start_time": "2024-09-12T06:19:30.858Z"
   },
   {
    "duration": 26,
    "start_time": "2024-09-12T06:19:33.505Z"
   },
   {
    "duration": 39,
    "start_time": "2024-09-12T06:19:33.533Z"
   },
   {
    "duration": 7,
    "start_time": "2024-09-12T06:19:33.751Z"
   },
   {
    "duration": 10,
    "start_time": "2024-09-12T06:19:34.099Z"
   },
   {
    "duration": 8,
    "start_time": "2024-09-12T06:19:37.503Z"
   },
   {
    "duration": 5,
    "start_time": "2024-09-12T06:19:37.789Z"
   },
   {
    "duration": 7,
    "start_time": "2024-09-12T06:19:38.103Z"
   },
   {
    "duration": 28,
    "start_time": "2024-09-12T06:19:44.751Z"
   },
   {
    "duration": 567,
    "start_time": "2024-09-12T06:19:45.326Z"
   },
   {
    "duration": 0,
    "start_time": "2024-09-12T06:19:45.895Z"
   },
   {
    "duration": 0,
    "start_time": "2024-09-12T06:19:45.896Z"
   },
   {
    "duration": 0,
    "start_time": "2024-09-12T06:19:45.897Z"
   },
   {
    "duration": 0,
    "start_time": "2024-09-12T06:19:45.898Z"
   },
   {
    "duration": 0,
    "start_time": "2024-09-12T06:19:45.899Z"
   },
   {
    "duration": 23,
    "start_time": "2024-09-12T06:19:45.986Z"
   },
   {
    "duration": 191,
    "start_time": "2024-09-12T06:19:46.377Z"
   },
   {
    "duration": 4,
    "start_time": "2024-09-12T06:20:54.721Z"
   },
   {
    "duration": 15,
    "start_time": "2024-09-12T06:20:55.256Z"
   },
   {
    "duration": 35,
    "start_time": "2024-09-12T06:20:55.290Z"
   },
   {
    "duration": 7,
    "start_time": "2024-09-12T06:20:55.429Z"
   },
   {
    "duration": 9,
    "start_time": "2024-09-12T06:20:55.457Z"
   },
   {
    "duration": 9,
    "start_time": "2024-09-12T06:20:56.552Z"
   },
   {
    "duration": 5,
    "start_time": "2024-09-12T06:20:56.883Z"
   },
   {
    "duration": 7,
    "start_time": "2024-09-12T06:20:57.269Z"
   },
   {
    "duration": 9,
    "start_time": "2024-09-12T06:20:57.727Z"
   },
   {
    "duration": 16,
    "start_time": "2024-09-12T06:20:58.556Z"
   },
   {
    "duration": 13,
    "start_time": "2024-09-12T06:20:59.925Z"
   },
   {
    "duration": 24,
    "start_time": "2024-09-12T06:21:01.122Z"
   },
   {
    "duration": 832,
    "start_time": "2024-09-12T06:21:58.038Z"
   },
   {
    "duration": 74,
    "start_time": "2024-09-12T06:22:02.226Z"
   },
   {
    "duration": 11,
    "start_time": "2024-09-12T06:22:02.779Z"
   },
   {
    "duration": 24,
    "start_time": "2024-09-12T06:22:03.912Z"
   },
   {
    "duration": 2334,
    "start_time": "2024-09-12T06:22:04.891Z"
   },
   {
    "duration": 214,
    "start_time": "2024-09-12T06:22:07.227Z"
   },
   {
    "duration": 3,
    "start_time": "2024-09-12T06:22:28.944Z"
   },
   {
    "duration": 16,
    "start_time": "2024-09-12T06:22:29.428Z"
   },
   {
    "duration": 35,
    "start_time": "2024-09-12T06:22:29.698Z"
   },
   {
    "duration": 7,
    "start_time": "2024-09-12T06:22:30.826Z"
   },
   {
    "duration": 9,
    "start_time": "2024-09-12T06:22:31.077Z"
   },
   {
    "duration": 8,
    "start_time": "2024-09-12T06:22:49.681Z"
   },
   {
    "duration": 4,
    "start_time": "2024-09-12T06:22:50.241Z"
   },
   {
    "duration": 8,
    "start_time": "2024-09-12T06:22:50.868Z"
   },
   {
    "duration": 30,
    "start_time": "2024-09-12T06:22:54.844Z"
   },
   {
    "duration": 48,
    "start_time": "2024-09-12T06:22:56.729Z"
   },
   {
    "duration": 3,
    "start_time": "2024-09-12T06:23:29.089Z"
   },
   {
    "duration": 15,
    "start_time": "2024-09-12T06:23:29.621Z"
   },
   {
    "duration": 35,
    "start_time": "2024-09-12T06:23:29.676Z"
   },
   {
    "duration": 6,
    "start_time": "2024-09-12T06:23:29.791Z"
   },
   {
    "duration": 8,
    "start_time": "2024-09-12T06:23:29.821Z"
   },
   {
    "duration": 8,
    "start_time": "2024-09-12T06:23:31.014Z"
   },
   {
    "duration": 4,
    "start_time": "2024-09-12T06:23:31.247Z"
   },
   {
    "duration": 6,
    "start_time": "2024-09-12T06:23:31.496Z"
   },
   {
    "duration": 9,
    "start_time": "2024-09-12T06:23:31.790Z"
   },
   {
    "duration": 16,
    "start_time": "2024-09-12T06:23:32.566Z"
   },
   {
    "duration": 12,
    "start_time": "2024-09-12T06:23:34.062Z"
   },
   {
    "duration": 828,
    "start_time": "2024-09-12T06:23:35.137Z"
   },
   {
    "duration": 73,
    "start_time": "2024-09-12T06:23:35.970Z"
   },
   {
    "duration": 13,
    "start_time": "2024-09-12T06:23:36.295Z"
   },
   {
    "duration": 23,
    "start_time": "2024-09-12T06:23:41.579Z"
   },
   {
    "duration": 2280,
    "start_time": "2024-09-12T06:23:42.514Z"
   },
   {
    "duration": 201,
    "start_time": "2024-09-12T06:23:44.796Z"
   },
   {
    "duration": 14,
    "start_time": "2024-09-12T06:23:44.998Z"
   },
   {
    "duration": 5,
    "start_time": "2024-09-12T06:23:47.699Z"
   },
   {
    "duration": 8,
    "start_time": "2024-09-12T06:23:48.219Z"
   },
   {
    "duration": 13,
    "start_time": "2024-09-12T06:23:48.750Z"
   },
   {
    "duration": 2502,
    "start_time": "2024-09-12T06:23:49.212Z"
   },
   {
    "duration": 222,
    "start_time": "2024-09-12T06:23:51.716Z"
   },
   {
    "duration": 7,
    "start_time": "2024-09-12T06:23:51.940Z"
   },
   {
    "duration": 6,
    "start_time": "2024-09-12T06:52:30.808Z"
   },
   {
    "duration": 3,
    "start_time": "2024-09-12T06:52:47.946Z"
   },
   {
    "duration": 15,
    "start_time": "2024-09-12T06:52:48.000Z"
   },
   {
    "duration": 38,
    "start_time": "2024-09-12T06:52:48.050Z"
   },
   {
    "duration": 7,
    "start_time": "2024-09-12T06:52:48.177Z"
   },
   {
    "duration": 8,
    "start_time": "2024-09-12T06:52:48.198Z"
   },
   {
    "duration": 8,
    "start_time": "2024-09-12T06:52:48.324Z"
   },
   {
    "duration": 4,
    "start_time": "2024-09-12T06:52:48.359Z"
   },
   {
    "duration": 6,
    "start_time": "2024-09-12T06:52:48.394Z"
   },
   {
    "duration": 8,
    "start_time": "2024-09-12T06:52:48.416Z"
   },
   {
    "duration": 16,
    "start_time": "2024-09-12T06:52:48.501Z"
   },
   {
    "duration": 16,
    "start_time": "2024-09-12T06:52:48.671Z"
   },
   {
    "duration": 834,
    "start_time": "2024-09-12T06:52:48.690Z"
   },
   {
    "duration": 80,
    "start_time": "2024-09-12T06:52:49.527Z"
   },
   {
    "duration": 10,
    "start_time": "2024-09-12T06:52:49.608Z"
   },
   {
    "duration": 58,
    "start_time": "2024-09-12T06:52:49.621Z"
   },
   {
    "duration": 2385,
    "start_time": "2024-09-12T06:52:49.681Z"
   },
   {
    "duration": 205,
    "start_time": "2024-09-12T06:52:52.068Z"
   },
   {
    "duration": 13,
    "start_time": "2024-09-12T06:52:52.275Z"
   },
   {
    "duration": 6,
    "start_time": "2024-09-12T06:52:52.290Z"
   },
   {
    "duration": 6,
    "start_time": "2024-09-12T06:52:52.299Z"
   },
   {
    "duration": 11,
    "start_time": "2024-09-12T06:52:52.307Z"
   },
   {
    "duration": 2532,
    "start_time": "2024-09-12T06:52:52.320Z"
   },
   {
    "duration": 219,
    "start_time": "2024-09-12T06:52:54.854Z"
   },
   {
    "duration": 7,
    "start_time": "2024-09-12T06:52:55.075Z"
   },
   {
    "duration": 15,
    "start_time": "2024-09-12T06:59:05.517Z"
   },
   {
    "duration": 16,
    "start_time": "2024-09-12T06:59:35.343Z"
   },
   {
    "duration": 3,
    "start_time": "2024-09-12T06:59:44.675Z"
   },
   {
    "duration": 107,
    "start_time": "2024-09-12T06:59:52.273Z"
   },
   {
    "duration": 3,
    "start_time": "2024-09-12T07:01:14.561Z"
   },
   {
    "duration": 15,
    "start_time": "2024-09-12T07:01:14.760Z"
   },
   {
    "duration": 36,
    "start_time": "2024-09-12T07:01:14.777Z"
   },
   {
    "duration": 6,
    "start_time": "2024-09-12T07:01:14.815Z"
   },
   {
    "duration": 9,
    "start_time": "2024-09-12T07:01:14.978Z"
   },
   {
    "duration": 7,
    "start_time": "2024-09-12T07:01:14.989Z"
   },
   {
    "duration": 4,
    "start_time": "2024-09-12T07:01:14.998Z"
   },
   {
    "duration": 6,
    "start_time": "2024-09-12T07:01:15.184Z"
   },
   {
    "duration": 8,
    "start_time": "2024-09-12T07:01:15.192Z"
   },
   {
    "duration": 17,
    "start_time": "2024-09-12T07:01:15.202Z"
   },
   {
    "duration": 59,
    "start_time": "2024-09-12T07:01:15.224Z"
   },
   {
    "duration": 824,
    "start_time": "2024-09-12T07:01:15.400Z"
   },
   {
    "duration": 76,
    "start_time": "2024-09-12T07:01:16.226Z"
   },
   {
    "duration": 11,
    "start_time": "2024-09-12T07:01:16.304Z"
   },
   {
    "duration": 69,
    "start_time": "2024-09-12T07:01:16.318Z"
   },
   {
    "duration": 2434,
    "start_time": "2024-09-12T07:01:16.390Z"
   },
   {
    "duration": 202,
    "start_time": "2024-09-12T07:01:18.826Z"
   },
   {
    "duration": 15,
    "start_time": "2024-09-12T07:01:19.030Z"
   },
   {
    "duration": 115,
    "start_time": "2024-09-12T07:01:19.046Z"
   },
   {
    "duration": 9,
    "start_time": "2024-09-12T07:01:19.163Z"
   },
   {
    "duration": 8,
    "start_time": "2024-09-12T07:01:19.173Z"
   },
   {
    "duration": 11,
    "start_time": "2024-09-12T07:01:19.182Z"
   },
   {
    "duration": 2540,
    "start_time": "2024-09-12T07:01:19.196Z"
   },
   {
    "duration": 218,
    "start_time": "2024-09-12T07:01:21.738Z"
   },
   {
    "duration": 14,
    "start_time": "2024-09-12T07:01:21.959Z"
   },
   {
    "duration": 853,
    "start_time": "2024-09-18T06:41:18.161Z"
   },
   {
    "duration": 26,
    "start_time": "2024-09-18T06:41:19.263Z"
   },
   {
    "duration": 81,
    "start_time": "2024-09-18T06:41:20.081Z"
   },
   {
    "duration": 3104,
    "start_time": "2024-09-19T01:07:24.346Z"
   },
   {
    "duration": 29,
    "start_time": "2024-09-19T01:07:27.453Z"
   },
   {
    "duration": 75,
    "start_time": "2024-09-19T01:07:27.484Z"
   },
   {
    "duration": 4,
    "start_time": "2024-09-19T01:28:33.483Z"
   },
   {
    "duration": 16,
    "start_time": "2024-09-19T01:28:34.014Z"
   },
   {
    "duration": 44,
    "start_time": "2024-09-19T01:28:34.055Z"
   },
   {
    "duration": 7,
    "start_time": "2024-09-19T01:28:34.204Z"
   },
   {
    "duration": 10,
    "start_time": "2024-09-19T01:28:34.235Z"
   },
   {
    "duration": 8,
    "start_time": "2024-09-19T01:28:34.409Z"
   },
   {
    "duration": 7,
    "start_time": "2024-09-19T01:28:34.440Z"
   },
   {
    "duration": 8,
    "start_time": "2024-09-19T01:28:34.467Z"
   },
   {
    "duration": 13,
    "start_time": "2024-09-19T01:28:34.503Z"
   },
   {
    "duration": 20,
    "start_time": "2024-09-19T01:28:34.613Z"
   },
   {
    "duration": 20,
    "start_time": "2024-09-19T01:28:34.733Z"
   },
   {
    "duration": 852,
    "start_time": "2024-09-19T01:28:37.503Z"
   },
   {
    "duration": 78,
    "start_time": "2024-09-19T01:28:38.357Z"
   },
   {
    "duration": 14,
    "start_time": "2024-09-19T01:28:39.421Z"
   },
   {
    "duration": 113,
    "start_time": "2024-09-19T01:28:40.702Z"
   },
   {
    "duration": 2365,
    "start_time": "2024-09-19T01:28:41.819Z"
   },
   {
    "duration": 216,
    "start_time": "2024-09-19T01:28:44.187Z"
   },
   {
    "duration": 16,
    "start_time": "2024-09-19T01:28:44.406Z"
   },
   {
    "duration": 125,
    "start_time": "2024-09-19T01:28:44.424Z"
   },
   {
    "duration": 6,
    "start_time": "2024-09-19T01:29:05.849Z"
   },
   {
    "duration": 10,
    "start_time": "2024-09-19T01:29:10.032Z"
   },
   {
    "duration": 6,
    "start_time": "2024-09-19T01:33:34.934Z"
   },
   {
    "duration": 10,
    "start_time": "2024-09-19T01:33:34.966Z"
   },
   {
    "duration": 15,
    "start_time": "2024-09-19T01:33:34.998Z"
   },
   {
    "duration": 2576,
    "start_time": "2024-09-19T01:33:35.034Z"
   },
   {
    "duration": 228,
    "start_time": "2024-09-19T01:33:37.612Z"
   },
   {
    "duration": 222,
    "start_time": "2024-09-19T01:36:10.989Z"
   },
   {
    "duration": 7,
    "start_time": "2024-09-19T01:36:18.417Z"
   },
   {
    "duration": 9,
    "start_time": "2024-09-19T01:41:32.678Z"
   }
  ],
  "kernelspec": {
   "display_name": "Python [conda env:base] *",
   "language": "python",
   "name": "conda-base-py"
  },
  "language_info": {
   "codemirror_mode": {
    "name": "ipython",
    "version": 3
   },
   "file_extension": ".py",
   "mimetype": "text/x-python",
   "name": "python",
   "nbconvert_exporter": "python",
   "pygments_lexer": "ipython3",
   "version": "3.12.7"
  },
  "toc": {
   "base_numbering": 1,
   "nav_menu": {},
   "number_sections": true,
   "sideBar": true,
   "skip_h1_title": true,
   "title_cell": "Table of Contents",
   "title_sidebar": "Contents",
   "toc_cell": false,
   "toc_position": {},
   "toc_section_display": true,
   "toc_window_display": true
  }
 },
 "nbformat": 4,
 "nbformat_minor": 4
}
